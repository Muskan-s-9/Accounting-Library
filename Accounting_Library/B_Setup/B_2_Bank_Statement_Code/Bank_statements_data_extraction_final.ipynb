{
  "nbformat": 4,
  "nbformat_minor": 0,
  "metadata": {
    "colab": {
      "provenance": [],
      "collapsed_sections": [
        "RX4XjTb4TNOA"
      ]
    },
    "kernelspec": {
      "name": "python3",
      "display_name": "Python 3"
    },
    "language_info": {
      "name": "python"
    }
  },
  "cells": [
    {
      "cell_type": "markdown",
      "source": [
        "# Extracting data from Screenshot of a bank statement : Account information"
      ],
      "metadata": {
        "id": "WW5KujteRJ3s"
      }
    },
    {
      "cell_type": "markdown",
      "source": [
        "   <span style=\"color:blue\">First we install the various Python packages that helps us in reading and displaying the images.<br><br>EasyOCR is a python OCR module that helps detect textual data in an image. <br><br> Further,we create bounds around the detected text,these bounds highlight the text.<br><br>Then with the bounds that are created,the text is extracted </span>"
      ],
      "metadata": {
        "id": "G9dyfqz9RQYR"
      }
    },
    {
      "cell_type": "code",
      "source": [
        "!pip install easyocr"
      ],
      "metadata": {
        "colab": {
          "base_uri": "https://localhost:8080/"
        },
        "id": "d9QIEIIaJM4r",
        "outputId": "b2ac9661-0c9c-4370-826a-07245845ca0f"
      },
      "execution_count": 1,
      "outputs": [
        {
          "output_type": "stream",
          "name": "stdout",
          "text": [
            "Collecting easyocr\n",
            "  Downloading easyocr-1.7.1-py3-none-any.whl (2.9 MB)\n",
            "\u001b[2K     \u001b[90m━━━━━━━━━━━━━━━━━━━━━━━━━━━━━━━━━━━━━━━━\u001b[0m \u001b[32m2.9/2.9 MB\u001b[0m \u001b[31m10.6 MB/s\u001b[0m eta \u001b[36m0:00:00\u001b[0m\n",
            "\u001b[?25hRequirement already satisfied: torch in /usr/local/lib/python3.10/dist-packages (from easyocr) (2.1.0+cu121)\n",
            "Requirement already satisfied: torchvision>=0.5 in /usr/local/lib/python3.10/dist-packages (from easyocr) (0.16.0+cu121)\n",
            "Requirement already satisfied: opencv-python-headless in /usr/local/lib/python3.10/dist-packages (from easyocr) (4.9.0.80)\n",
            "Requirement already satisfied: scipy in /usr/local/lib/python3.10/dist-packages (from easyocr) (1.11.4)\n",
            "Requirement already satisfied: numpy in /usr/local/lib/python3.10/dist-packages (from easyocr) (1.25.2)\n",
            "Requirement already satisfied: Pillow in /usr/local/lib/python3.10/dist-packages (from easyocr) (9.4.0)\n",
            "Requirement already satisfied: scikit-image in /usr/local/lib/python3.10/dist-packages (from easyocr) (0.19.3)\n",
            "Collecting python-bidi (from easyocr)\n",
            "  Downloading python_bidi-0.4.2-py2.py3-none-any.whl (30 kB)\n",
            "Requirement already satisfied: PyYAML in /usr/local/lib/python3.10/dist-packages (from easyocr) (6.0.1)\n",
            "Requirement already satisfied: Shapely in /usr/local/lib/python3.10/dist-packages (from easyocr) (2.0.3)\n",
            "Collecting pyclipper (from easyocr)\n",
            "  Downloading pyclipper-1.3.0.post5-cp310-cp310-manylinux_2_12_x86_64.manylinux2010_x86_64.whl (908 kB)\n",
            "\u001b[2K     \u001b[90m━━━━━━━━━━━━━━━━━━━━━━━━━━━━━━━━━━━━━━━━\u001b[0m \u001b[32m908.3/908.3 kB\u001b[0m \u001b[31m21.7 MB/s\u001b[0m eta \u001b[36m0:00:00\u001b[0m\n",
            "\u001b[?25hCollecting ninja (from easyocr)\n",
            "  Downloading ninja-1.11.1.1-py2.py3-none-manylinux1_x86_64.manylinux_2_5_x86_64.whl (307 kB)\n",
            "\u001b[2K     \u001b[90m━━━━━━━━━━━━━━━━━━━━━━━━━━━━━━━━━━━━━━━━\u001b[0m \u001b[32m307.2/307.2 kB\u001b[0m \u001b[31m14.7 MB/s\u001b[0m eta \u001b[36m0:00:00\u001b[0m\n",
            "\u001b[?25hRequirement already satisfied: requests in /usr/local/lib/python3.10/dist-packages (from torchvision>=0.5->easyocr) (2.31.0)\n",
            "Requirement already satisfied: filelock in /usr/local/lib/python3.10/dist-packages (from torch->easyocr) (3.13.1)\n",
            "Requirement already satisfied: typing-extensions in /usr/local/lib/python3.10/dist-packages (from torch->easyocr) (4.9.0)\n",
            "Requirement already satisfied: sympy in /usr/local/lib/python3.10/dist-packages (from torch->easyocr) (1.12)\n",
            "Requirement already satisfied: networkx in /usr/local/lib/python3.10/dist-packages (from torch->easyocr) (3.2.1)\n",
            "Requirement already satisfied: jinja2 in /usr/local/lib/python3.10/dist-packages (from torch->easyocr) (3.1.3)\n",
            "Requirement already satisfied: fsspec in /usr/local/lib/python3.10/dist-packages (from torch->easyocr) (2023.6.0)\n",
            "Requirement already satisfied: triton==2.1.0 in /usr/local/lib/python3.10/dist-packages (from torch->easyocr) (2.1.0)\n",
            "Requirement already satisfied: six in /usr/local/lib/python3.10/dist-packages (from python-bidi->easyocr) (1.16.0)\n",
            "Requirement already satisfied: imageio>=2.4.1 in /usr/local/lib/python3.10/dist-packages (from scikit-image->easyocr) (2.31.6)\n",
            "Requirement already satisfied: tifffile>=2019.7.26 in /usr/local/lib/python3.10/dist-packages (from scikit-image->easyocr) (2024.2.12)\n",
            "Requirement already satisfied: PyWavelets>=1.1.1 in /usr/local/lib/python3.10/dist-packages (from scikit-image->easyocr) (1.5.0)\n",
            "Requirement already satisfied: packaging>=20.0 in /usr/local/lib/python3.10/dist-packages (from scikit-image->easyocr) (23.2)\n",
            "Requirement already satisfied: MarkupSafe>=2.0 in /usr/local/lib/python3.10/dist-packages (from jinja2->torch->easyocr) (2.1.5)\n",
            "Requirement already satisfied: charset-normalizer<4,>=2 in /usr/local/lib/python3.10/dist-packages (from requests->torchvision>=0.5->easyocr) (3.3.2)\n",
            "Requirement already satisfied: idna<4,>=2.5 in /usr/local/lib/python3.10/dist-packages (from requests->torchvision>=0.5->easyocr) (3.6)\n",
            "Requirement already satisfied: urllib3<3,>=1.21.1 in /usr/local/lib/python3.10/dist-packages (from requests->torchvision>=0.5->easyocr) (2.0.7)\n",
            "Requirement already satisfied: certifi>=2017.4.17 in /usr/local/lib/python3.10/dist-packages (from requests->torchvision>=0.5->easyocr) (2024.2.2)\n",
            "Requirement already satisfied: mpmath>=0.19 in /usr/local/lib/python3.10/dist-packages (from sympy->torch->easyocr) (1.3.0)\n",
            "Installing collected packages: pyclipper, ninja, python-bidi, easyocr\n",
            "Successfully installed easyocr-1.7.1 ninja-1.11.1.1 pyclipper-1.3.0.post5 python-bidi-0.4.2\n"
          ]
        }
      ]
    },
    {
      "cell_type": "code",
      "source": [
        "\n",
        "from PIL import Image, ImageDraw\n",
        "import easyocr\n",
        "import numpy as np\n",
        "\n",
        "\n",
        "image_path = '/content/Screenshot (93).png'\n",
        "\n",
        "# Initialize the OCR reader\n",
        "reader = easyocr.Reader(['en']) #OCR\n",
        "\n",
        "# Open the image using PIL\n",
        "img = Image.open(image_path)\n",
        "\n",
        "# Display the image\n",
        "display(img)\n",
        "\n",
        "# Perform OCR to get text and bounding boxes\n",
        "bounds = reader.readtext(np.array(img))\n",
        "\n",
        "# Draw bounding boxes on the image\n",
        "def draw_boxes(image, bounds, color='yellow', width=2):\n",
        "    draw = ImageDraw.Draw(image)\n",
        "    for bound in bounds:\n",
        "        p0, p1, p2, p3 = bound[0]\n",
        "        draw.line([*p0, *p1, *p2, *p3, *p0], fill=color, width=width)\n",
        "    return image\n",
        "\n",
        "# Display the image with bounding boxes\n",
        "drawn_image = draw_boxes(img, bounds)\n",
        "display(drawn_image)\n",
        "\n",
        "# Extracted text\n",
        "text = ''\n",
        "for i in range(len(bounds)):\n",
        "    text += bounds[i][1] + '\\n'\n",
        "print(text)\n"
      ],
      "metadata": {
        "colab": {
          "base_uri": "https://localhost:8080/",
          "height": 1000
        },
        "id": "HZaAK0hoPiS8",
        "outputId": "d71f514a-28fa-4edf-e58b-c3f8f458ab6b"
      },
      "execution_count": 2,
      "outputs": [
        {
          "output_type": "stream",
          "name": "stderr",
          "text": [
            "WARNING:easyocr.easyocr:Neither CUDA nor MPS are available - defaulting to CPU. Note: This module is much faster with a GPU.\n",
            "WARNING:easyocr.easyocr:Downloading detection model, please wait. This may take several minutes depending upon your network connection.\n"
          ]
        },
        {
          "output_type": "stream",
          "name": "stdout",
          "text": [
            "Progress: |██████████████████████████████████████████████████| 100.0% Complete"
          ]
        },
        {
          "output_type": "stream",
          "name": "stderr",
          "text": [
            "WARNING:easyocr.easyocr:Downloading recognition model, please wait. This may take several minutes depending upon your network connection.\n"
          ]
        },
        {
          "output_type": "stream",
          "name": "stdout",
          "text": [
            "Progress: |██████████████████████████████████████████████████| 100.0% Complete"
          ]
        },
        {
          "output_type": "display_data",
          "data": {
            "text/plain": [
              "<PIL.PngImagePlugin.PngImageFile image mode=RGBA size=1920x929>"
            ],
            "image/png": "[encoded data removed]"
          },
          "metadata": {}
        },
        {
          "output_type": "display_data",
          "data": {
            "text/plain": [
              "<PIL.PngImagePlugin.PngImageFile image mode=RGBA size=1920x929>"
            ],
            "image/png": "[encoded data removed]"
          },
          "metadata": {}
        },
        {
          "output_type": "stream",
          "name": "stdout",
          "text": [
            "5237XXXXXXXXX163912-01-2024xls [Compatibility Mode]\n",
            "Excel\n",
            "Olivia Ambrose\n",
            "File\n",
            "Home\n",
            "Insert\n",
            "Draw\n",
            "Page Layout\n",
            "Formulas\n",
            "Data\n",
            "Review\n",
            "View\n",
            "Help\n",
            "Tell me what you want to do\n",
            "A129\n",
            "Account Statement For Account:5237100100001639\n",
            "Branch Details\n",
            "Branch Name\n",
            "MUMBAI - MALVANI\n",
            "Bank Address:\n",
            "St ANTHONY High SCHOOL\n",
            "MARVE ROADMALAD(W)\n",
            "City:\n",
            "MUMBAL\n",
            "Pin:\n",
            "400095\n",
            "IFSC Code:\n",
            "PUNB0523710\n",
            "MICR Code\n",
            "400024169\n",
            "customer Details\n",
            "Customer\n",
            "OLIVIA JOSEPH AMBROSE\n",
            "Joint Account\n",
            "Holder\n",
            "Joint Account\n",
            "Holder 2:\n",
            "Joint Account\n",
            "Holder 3\n",
            "Customer\n",
            "INFANT JESuS COTTAGE RNO\n",
            "CHICKOOWADI\n",
            "MALWANI ChurCH MALAD WEST\n",
            "City:\n",
            "MUMBAL\n",
            "Pin:\n",
            "400095\n",
            "Nominee\n",
            "CKYC Number\n",
            "10022178984711\n",
            "Statement Period\n",
            "25/11/2022 to\n",
            "31/12/2022\n",
            "Transactio\n",
            "Cheque\n",
            "Withdrawal\n",
            "Deposit\n",
            "Balance\n",
            "Narration\n",
            "Date\n",
            "Number\n",
            "31/12/2022\n",
            "331.001\n",
            "2,948.80 CrIUPI300112145471/P2Vinataline ambrose@okicic\n",
            "31/12/2022\n",
            "331.00\n",
            "2,617.80 CrIuPi300140491697/PZMizomato payu@axisbankl\n",
            "Zomato\n",
            "19/12/2022\n",
            "140.00\n",
            "2,948.80 CrIP1235341644939/P2Vierodsouza01@oksbiNvE\n",
            "RONICA M\n",
            "19/12/2022\n",
            "699.00\n",
            "3,088.80 CrIPos 235319906044 WESTSIDE\n",
            "19/12/2022\n",
            "360.00\n",
            "3,787.80 Cr:\n",
            "POS 235319873321 MINISO INFINITY MALAD !\n",
            "UPI235335590617/P2Vinataline ambrose@okicic\n",
            "19/12/2022\n",
            "600.00|\n",
            "4,147.80 Cr:\n",
            "iNATA\n",
            "13/12/2022\n",
            "300.00\n",
            "3,547.80 CrIUPW2347706351341P2Viverodsouza01@oksbiNVvE\n",
            "RONICA M\n",
            "UPI234723665725 P2Mpaytmqr281005050101q\n",
            "13/12/2022\n",
            "600.00\n",
            "3,247.80 Cr:\n",
            "ouscilbal\n",
            "13/12/2022\n",
            "95.00\n",
            "3,847.80 CrIuP1234799641353P2Mpaytm-\n",
            "64670120@paytm lndian R\n",
            "12/12/2022\n",
            "1,000.00\n",
            "3,942.80 CrIuP1234619827771/P2Vinataline ambrose@okicic]\n",
            "iNATA\n",
            "09/12/2022\n",
            "5.001\n",
            "2,942.80 CrIuPi234382745383P2Vig009\n",
            "payment@okaxis GOOGLEPAY\n",
            "MNATA\n",
            "\n"
          ]
        }
      ]
    },
    {
      "cell_type": "markdown",
      "source": [
        "## Data preprocessing\n",
        "\n",
        "<span style=\"color:blue\"> Now we remove the unnecessary information that is exracted from the image and only keep the important data </span>"
      ],
      "metadata": {
        "id": "RX4XjTb4TNOA"
      }
    },
    {
      "cell_type": "code",
      "source": [
        "keywords = [\n",
        "    '5237XXXXXXXXX163912-01-2024xls [Compatibility Mode]',\n",
        "    'Excel',\n",
        "    'Olivia Ambrose',\n",
        "    'File',\n",
        "    'Home',\n",
        "    'Insert',\n",
        "    'Draw',\n",
        "    'Page Layout',\n",
        "    'Formulas',\n",
        "    'Data',\n",
        "    'Review',\n",
        "    'View',\n",
        "    'Help',\n",
        "    'Tell me what you want to do',\n",
        "    'A129'\n",
        "]\n",
        "\n",
        "for keyword in keywords:\n",
        "    text = text.replace(keyword, '')\n",
        "\n",
        "print(text)"
      ],
      "metadata": {
        "colab": {
          "base_uri": "https://localhost:8080/"
        },
        "id": "fGZRGX0DQSCY",
        "outputId": "8e6b7778-1cc2-4469-aaa2-5b789955be9a"
      },
      "execution_count": 3,
      "outputs": [
        {
          "output_type": "stream",
          "name": "stdout",
          "text": [
            "\n",
            "\n",
            "\n",
            "\n",
            "\n",
            "\n",
            "\n",
            "\n",
            "\n",
            "\n",
            "\n",
            "\n",
            "\n",
            "\n",
            "\n",
            "Account Statement For Account:5237100100001639\n",
            "Branch Details\n",
            "Branch Name\n",
            "MUMBAI - MALVANI\n",
            "Bank Address:\n",
            "St ANTHONY High SCHOOL\n",
            "MARVE ROADMALAD(W)\n",
            "City:\n",
            "MUMBAL\n",
            "Pin:\n",
            "400095\n",
            "IFSC Code:\n",
            "PUNB0523710\n",
            "MICR Code\n",
            "400024169\n",
            "customer Details\n",
            "Customer\n",
            "OLIVIA JOSEPH AMBROSE\n",
            "Joint Account\n",
            "Holder\n",
            "Joint Account\n",
            "Holder 2:\n",
            "Joint Account\n",
            "Holder 3\n",
            "Customer\n",
            "INFANT JESuS COTTAGE RNO\n",
            "CHICKOOWADI\n",
            "MALWANI ChurCH MALAD WEST\n",
            "City:\n",
            "MUMBAL\n",
            "Pin:\n",
            "400095\n",
            "Nominee\n",
            "CKYC Number\n",
            "10022178984711\n",
            "Statement Period\n",
            "25/11/2022 to\n",
            "31/12/2022\n",
            "Transactio\n",
            "Cheque\n",
            "Withdrawal\n",
            "Deposit\n",
            "Balance\n",
            "Narration\n",
            "Date\n",
            "Number\n",
            "31/12/2022\n",
            "331.001\n",
            "2,948.80 CrIUPI300112145471/P2Vinataline ambrose@okicic\n",
            "31/12/2022\n",
            "331.00\n",
            "2,617.80 CrIuPi300140491697/PZMizomato payu@axisbankl\n",
            "Zomato\n",
            "19/12/2022\n",
            "140.00\n",
            "2,948.80 CrIP1235341644939/P2Vierodsouza01@oksbiNvE\n",
            "RONICA M\n",
            "19/12/2022\n",
            "699.00\n",
            "3,088.80 CrIPos 235319906044 WESTSIDE\n",
            "19/12/2022\n",
            "360.00\n",
            "3,787.80 Cr:\n",
            "POS 235319873321 MINISO INFINITY MALAD !\n",
            "UPI235335590617/P2Vinataline ambrose@okicic\n",
            "19/12/2022\n",
            "600.00|\n",
            "4,147.80 Cr:\n",
            "iNATA\n",
            "13/12/2022\n",
            "300.00\n",
            "3,547.80 CrIUPW2347706351341P2Viverodsouza01@oksbiNVvE\n",
            "RONICA M\n",
            "UPI234723665725 P2Mpaytmqr281005050101q\n",
            "13/12/2022\n",
            "600.00\n",
            "3,247.80 Cr:\n",
            "ouscilbal\n",
            "13/12/2022\n",
            "95.00\n",
            "3,847.80 CrIuP1234799641353P2Mpaytm-\n",
            "64670120@paytm lndian R\n",
            "12/12/2022\n",
            "1,000.00\n",
            "3,942.80 CrIuP1234619827771/P2Vinataline ambrose@okicic]\n",
            "iNATA\n",
            "09/12/2022\n",
            "5.001\n",
            "2,942.80 CrIuPi234382745383P2Vig009\n",
            "payment@okaxis GOOGLEPAY\n",
            "MNATA\n",
            "\n"
          ]
        }
      ]
    },
    {
      "cell_type": "markdown",
      "source": [
        "## Segregating the data\n",
        "\n",
        "<span style=\"color:blue\"> Account Details  </span>"
      ],
      "metadata": {
        "id": "Cd0AjM4VqP87"
      }
    },
    {
      "cell_type": "markdown",
      "source": [
        "<span style=\"color:blue\">\n",
        "This section extracts relevant information from the extracted text [account numbers, bank addresses, cities, PIN codes, IFSC codes, MICR codes, customer names, and statement periods].<br><br> Each type of information is extracted using regular expressions and stored in separate DataFrames. The extracted data is then merged into a single DataFrame (merged_df) using the pd.merge function.</span>"
      ],
      "metadata": {
        "id": "4pCIrlAdsIWO"
      }
    },
    {
      "cell_type": "code",
      "source": [
        "import re\n",
        "import pandas as pd\n",
        "\n",
        "if 'Account' in text:\n",
        "  column_head='Account No'\n",
        "  pattern = r'\\b\\d{16}\\b'\n",
        "  column_value = re.findall(pattern, text)\n",
        "df = pd.DataFrame({column_head:column_value},index=['Description'])\n",
        "print(df)"
      ],
      "metadata": {
        "colab": {
          "base_uri": "https://localhost:8080/"
        },
        "id": "Q1lG49_MRFv6",
        "outputId": "192062be-a266-4e80-8ee9-eb1072f00207"
      },
      "execution_count": 4,
      "outputs": [
        {
          "output_type": "stream",
          "name": "stdout",
          "text": [
            "                   Account No\n",
            "Description  5237100100001639\n"
          ]
        }
      ]
    },
    {
      "cell_type": "code",
      "source": [
        "start = text.find('Bank Address:')\n",
        "end = text.find(')', start) + 1\n",
        "BA = text[start :end]\n",
        "BA"
      ],
      "metadata": {
        "colab": {
          "base_uri": "https://localhost:8080/",
          "height": 36
        },
        "outputId": "59205bf6-2e87-4e28-9de5-b8258aa522a5",
        "id": "Tm7S4z2DVaCi"
      },
      "execution_count": 5,
      "outputs": [
        {
          "output_type": "execute_result",
          "data": {
            "text/plain": [
              "'Bank Address:\\nSt ANTHONY High SCHOOL\\nMARVE ROADMALAD(W)'"
            ],
            "application/vnd.google.colaboratory.intrinsic+json": {
              "type": "string"
            }
          },
          "metadata": {},
          "execution_count": 5
        }
      ]
    },
    {
      "cell_type": "code",
      "source": [
        "B_add= BA.replace('\\n', ' ')\n",
        "print(B_add)\n"
      ],
      "metadata": {
        "colab": {
          "base_uri": "https://localhost:8080/"
        },
        "outputId": "5f7d6fd1-fe62-4520-87ed-de71939bca80",
        "id": "bTUQ3uQ5VaCl"
      },
      "execution_count": 6,
      "outputs": [
        {
          "output_type": "stream",
          "name": "stdout",
          "text": [
            "Bank Address: St ANTHONY High SCHOOL MARVE ROADMALAD(W)\n"
          ]
        }
      ]
    },
    {
      "cell_type": "code",
      "source": [
        "import pandas as pd\n",
        "\n",
        "\n",
        "if 'Bank Address:' in B_add:\n",
        "\n",
        "    B = B_add.replace('\\n', ' ')\n",
        "    column_head = 'Bank Address'\n",
        "    column_value = B.split('Bank Address:')[1].strip()\n",
        "\n",
        "    df1 = pd.DataFrame({column_head: [column_value]},index=['Description'])\n",
        "else:\n",
        "    print(\"No bank address found in the extracted substring.\")\n",
        "df1.head()"
      ],
      "metadata": {
        "colab": {
          "base_uri": "https://localhost:8080/",
          "height": 80
        },
        "id": "yX9qgHqFZGN6",
        "outputId": "5e92ce24-13fd-4bb7-b1d1-439cfb3133d3"
      },
      "execution_count": 7,
      "outputs": [
        {
          "output_type": "execute_result",
          "data": {
            "text/plain": [
              "                                          Bank Address\n",
              "Description  St ANTHONY High SCHOOL MARVE ROADMALAD(W)"
            ],
            "text/html": [
              "\n",
              "  <div id=\"df-9f4a97e6-2dec-4c23-842f-0a6c98e111ac\" class=\"colab-df-container\">\n",
              "    <div>\n",
              "<style scoped>\n",
              "    .dataframe tbody tr th:only-of-type {\n",
              "        vertical-align: middle;\n",
              "    }\n",
              "\n",
              "    .dataframe tbody tr th {\n",
              "        vertical-align: top;\n",
              "    }\n",
              "\n",
              "    .dataframe thead th {\n",
              "        text-align: right;\n",
              "    }\n",
              "</style>\n",
              "<table border=\"1\" class=\"dataframe\">\n",
              "  <thead>\n",
              "    <tr style=\"text-align: right;\">\n",
              "      <th></th>\n",
              "      <th>Bank Address</th>\n",
              "    </tr>\n",
              "  </thead>\n",
              "  <tbody>\n",
              "    <tr>\n",
              "      <th>Description</th>\n",
              "      <td>St ANTHONY High SCHOOL MARVE ROADMALAD(W)</td>\n",
              "    </tr>\n",
              "  </tbody>\n",
              "</table>\n",
              "</div>\n",
              "    <div class=\"colab-df-buttons\">\n",
              "\n",
              "  <div class=\"colab-df-container\">\n",
              "    <button class=\"colab-df-convert\" onclick=\"convertToInteractive('df-9f4a97e6-2dec-4c23-842f-0a6c98e111ac')\"\n",
              "            title=\"Convert this dataframe to an interactive table.\"\n",
              "            style=\"display:none;\">\n",
              "\n",
              "  <svg xmlns=\"http://www.w3.org/2000/svg\" height=\"24px\" viewBox=\"0 -960 960 960\">\n",
              "    <path d=\"M120-120v-720h720v720H120Zm60-500h600v-160H180v160Zm220 220h160v-160H400v160Zm0 220h160v-160H400v160ZM180-400h160v-160H180v160Zm440 0h160v-160H620v160ZM180-180h160v-160H180v160Zm440 0h160v-160H620v160Z\"/>\n",
              "  </svg>\n",
              "    </button>\n",
              "\n",
              "  <style>\n",
              "    .colab-df-container {\n",
              "      display:flex;\n",
              "      gap: 12px;\n",
              "    }\n",
              "\n",
              "    .colab-df-convert {\n",
              "      background-color: #E8F0FE;\n",
              "      border: none;\n",
              "      border-radius: 50%;\n",
              "      cursor: pointer;\n",
              "      display: none;\n",
              "      fill: #1967D2;\n",
              "      height: 32px;\n",
              "      padding: 0 0 0 0;\n",
              "      width: 32px;\n",
              "    }\n",
              "\n",
              "    .colab-df-convert:hover {\n",
              "      background-color: #E2EBFA;\n",
              "      box-shadow: 0px 1px 2px rgba(60, 64, 67, 0.3), 0px 1px 3px 1px rgba(60, 64, 67, 0.15);\n",
              "      fill: #174EA6;\n",
              "    }\n",
              "\n",
              "    .colab-df-buttons div {\n",
              "      margin-bottom: 4px;\n",
              "    }\n",
              "\n",
              "    [theme=dark] .colab-df-convert {\n",
              "      background-color: #3B4455;\n",
              "      fill: #D2E3FC;\n",
              "    }\n",
              "\n",
              "    [theme=dark] .colab-df-convert:hover {\n",
              "      background-color: #434B5C;\n",
              "      box-shadow: 0px 1px 3px 1px rgba(0, 0, 0, 0.15);\n",
              "      filter: drop-shadow(0px 1px 2px rgba(0, 0, 0, 0.3));\n",
              "      fill: #FFFFFF;\n",
              "    }\n",
              "  </style>\n",
              "\n",
              "    <script>\n",
              "      const buttonEl =\n",
              "        document.querySelector('#df-9f4a97e6-2dec-4c23-842f-0a6c98e111ac button.colab-df-convert');\n",
              "      buttonEl.style.display =\n",
              "        google.colab.kernel.accessAllowed ? 'block' : 'none';\n",
              "\n",
              "      async function convertToInteractive(key) {\n",
              "        const element = document.querySelector('#df-9f4a97e6-2dec-4c23-842f-0a6c98e111ac');\n",
              "        const dataTable =\n",
              "          await google.colab.kernel.invokeFunction('convertToInteractive',\n",
              "                                                    [key], {});\n",
              "        if (!dataTable) return;\n",
              "\n",
              "        const docLinkHtml = 'Like what you see? Visit the ' +\n",
              "          '<a target=\"_blank\" href=https://colab.research.google.com/notebooks/data_table.ipynb>data table notebook</a>'\n",
              "          + ' to learn more about interactive tables.';\n",
              "        element.innerHTML = '';\n",
              "        dataTable['output_type'] = 'display_data';\n",
              "        await google.colab.output.renderOutput(dataTable, element);\n",
              "        const docLink = document.createElement('div');\n",
              "        docLink.innerHTML = docLinkHtml;\n",
              "        element.appendChild(docLink);\n",
              "      }\n",
              "    </script>\n",
              "  </div>\n",
              "\n",
              "\n",
              "    </div>\n",
              "  </div>\n"
            ],
            "application/vnd.google.colaboratory.intrinsic+json": {
              "type": "dataframe",
              "variable_name": "df1",
              "summary": "{\n  \"name\": \"df1\",\n  \"rows\": 1,\n  \"fields\": [\n    {\n      \"column\": \"Bank Address\",\n      \"properties\": {\n        \"dtype\": \"string\",\n        \"num_unique_values\": 1,\n        \"samples\": [\n          \"St ANTHONY High SCHOOL MARVE ROADMALAD(W)\"\n        ],\n        \"semantic_type\": \"\",\n        \"description\": \"\"\n      }\n    }\n  ]\n}"
            }
          },
          "metadata": {},
          "execution_count": 7
        }
      ]
    },
    {
      "cell_type": "code",
      "source": [
        "cities_maha = ['Mumbai', 'Pune', 'Nagpur', 'Nashik', 'Aurangabad', 'Solapur', 'Thane', 'Amravati', 'Nanded', 'Kolhapur']\n",
        "found_city = None\n",
        "\n",
        "for city in cities_maha:\n",
        "    if city.lower() in text.lower():\n",
        "        found_city = city\n",
        "        break\n",
        "\n",
        "if found_city:\n",
        "    column_head = 'City'\n",
        "    column_value = found_city\n",
        "    df2 = pd.DataFrame({column_head: [column_value]}, index=['Description'])\n",
        "    print(df2)\n",
        "else:\n",
        "    print(\"No cities found in the text.\")\n"
      ],
      "metadata": {
        "colab": {
          "base_uri": "https://localhost:8080/"
        },
        "id": "aFXIn-6gZttN",
        "outputId": "41f79ff0-fe1d-4d1e-d361-58f6c93da2f9"
      },
      "execution_count": 8,
      "outputs": [
        {
          "output_type": "stream",
          "name": "stdout",
          "text": [
            "               City\n",
            "Description  Mumbai\n"
          ]
        }
      ]
    },
    {
      "cell_type": "code",
      "source": [
        "\n",
        "if 'Pin' in text:\n",
        "  column_head='Pin code'\n",
        "  pattern = r'\\b\\d{6}\\b'\n",
        "  matches = re.findall(pattern, text)\n",
        "  column_value = matches[0] if matches else None\n",
        "df3 = pd.DataFrame({column_head:[column_value]},index=['Description'])\n",
        "print(df3)"
      ],
      "metadata": {
        "colab": {
          "base_uri": "https://localhost:8080/"
        },
        "id": "IRqq4p5TbAME",
        "outputId": "42b092e5-f174-422e-a643-84e60b85e26f"
      },
      "execution_count": 9,
      "outputs": [
        {
          "output_type": "stream",
          "name": "stdout",
          "text": [
            "            Pin code\n",
            "Description   400095\n"
          ]
        }
      ]
    },
    {
      "cell_type": "code",
      "source": [
        "if 'IFSC Code' in text:\n",
        "    column_head = 'IFSC Code'\n",
        "    pattern = r'[A-Z]{4}0[A-Z0-9]{6}'\n",
        "    matches = re.findall(pattern, text)\n",
        "    column_value = matches[0] if matches else None\n",
        "\n",
        "    df4 = pd.DataFrame({column_head: [column_value]}, index=['Description'])\n",
        "    print(df4)\n",
        "else:\n",
        "    print(\"IFSC code not found in the text.\")\n"
      ],
      "metadata": {
        "colab": {
          "base_uri": "https://localhost:8080/"
        },
        "id": "Su_SSYwTb7oV",
        "outputId": "49ebbebf-4613-4fff-862a-2877c16f91ef"
      },
      "execution_count": 10,
      "outputs": [
        {
          "output_type": "stream",
          "name": "stdout",
          "text": [
            "               IFSC Code\n",
            "Description  PUNB0523710\n"
          ]
        }
      ]
    },
    {
      "cell_type": "code",
      "source": [
        "if 'MICR Code' in text:\n",
        "  column_head='MICR Code'\n",
        "  pattern = r'\\b\\d{9}\\b'\n",
        "  column_value = re.findall(pattern, text)\n",
        "df5 = pd.DataFrame({column_head:column_value},index=['Description'])\n",
        "print(df5)"
      ],
      "metadata": {
        "colab": {
          "base_uri": "https://localhost:8080/"
        },
        "id": "85GAMeYAfgfJ",
        "outputId": "bee8738d-b6b9-44cd-d85e-39247e90438b"
      },
      "execution_count": 11,
      "outputs": [
        {
          "output_type": "stream",
          "name": "stdout",
          "text": [
            "             MICR Code\n",
            "Description  400024169\n"
          ]
        }
      ]
    },
    {
      "cell_type": "code",
      "source": [
        "if 'Customer' in text:\n",
        "    column_head = 'Customer Name'\n",
        "    pattern = r'Customer\\n([A-Za-z\\s]+)'\n",
        "    match = re.search(pattern, text)\n",
        "\n",
        "    if match:\n",
        "        full_name = match.group(1).strip() # removes whitespaces(\\n) from the output\n",
        "        # Save the first 10 characters of the customer name\n",
        "        column_value = full_name[:21]\n",
        "        df6 = pd.DataFrame({column_head: [column_value]}, index=['Description'])\n",
        "        print(df6)"
      ],
      "metadata": {
        "colab": {
          "base_uri": "https://localhost:8080/"
        },
        "id": "wu7JLlQdi_rR",
        "outputId": "0adf5df6-a834-42d3-b4e7-474c5c836b62"
      },
      "execution_count": 12,
      "outputs": [
        {
          "output_type": "stream",
          "name": "stdout",
          "text": [
            "                     Customer Name\n",
            "Description  OLIVIA JOSEPH AMBROSE\n"
          ]
        }
      ]
    },
    {
      "cell_type": "code",
      "source": [
        "import re\n",
        "import pandas as pd\n",
        "\n",
        "if 'Statement Period' in text:\n",
        "    column_head = 'Statement Period'\n",
        "    pattern = r'(\\d{2}/\\d{2}/\\d{4})\\s+to\\s+(\\d{2}/\\d{2}/\\d{4})'\n",
        "    matches = re.findall(pattern, text)\n",
        "    column_value = matches[0] if matches else None\n",
        "    df7 = pd.DataFrame({column_head: [column_value]}, index=['Description'])\n",
        "    print(df7)\n"
      ],
      "metadata": {
        "colab": {
          "base_uri": "https://localhost:8080/"
        },
        "id": "lvemk8moobjW",
        "outputId": "0100749c-249e-4ce7-dd62-288206d2ce83"
      },
      "execution_count": 13,
      "outputs": [
        {
          "output_type": "stream",
          "name": "stdout",
          "text": [
            "                     Statement Period\n",
            "Description  (25/11/2022, 31/12/2022)\n"
          ]
        }
      ]
    },
    {
      "cell_type": "code",
      "source": [
        "merged_df_acc = pd.merge(df, df1, how='outer', left_index=True, right_index=True)\n",
        "merged_df_acc = pd.merge(merged_df_acc, df2, how='outer', left_index=True, right_index=True)\n",
        "merged_df_acc = pd.merge(merged_df_acc, df3, how='outer', left_index=True, right_index=True)\n",
        "merged_df_acc = pd.merge(merged_df_acc, df4, how='outer', left_index=True, right_index=True)\n",
        "merged_df_acc = pd.merge(merged_df_acc, df5, how='outer', left_index=True, right_index=True)\n",
        "merged_df_acc = pd.merge(merged_df_acc, df6, how='outer', left_index=True, right_index=True)\n",
        "merged_df_acc = pd.merge(merged_df_acc, df7, how='outer', left_index=True, right_index=True)\n",
        "merged_df_acc"
      ],
      "metadata": {
        "colab": {
          "base_uri": "https://localhost:8080/",
          "height": 115
        },
        "id": "BPhdIT1xdENU",
        "outputId": "db354cdf-0669-4e44-9eb8-239c23b2b284"
      },
      "execution_count": 14,
      "outputs": [
        {
          "output_type": "execute_result",
          "data": {
            "text/plain": [
              "                   Account No                               Bank Address  \\\n",
              "Description  5237100100001639  St ANTHONY High SCHOOL MARVE ROADMALAD(W)   \n",
              "\n",
              "               City Pin code    IFSC Code  MICR Code          Customer Name  \\\n",
              "Description  Mumbai   400095  PUNB0523710  400024169  OLIVIA JOSEPH AMBROSE   \n",
              "\n",
              "                     Statement Period  \n",
              "Description  (25/11/2022, 31/12/2022)  "
            ],
            "text/html": [
              "\n",
              "  <div id=\"df-63efc4c6-3e78-4798-a0d9-3ce56afa5dad\" class=\"colab-df-container\">\n",
              "    <div>\n",
              "<style scoped>\n",
              "    .dataframe tbody tr th:only-of-type {\n",
              "        vertical-align: middle;\n",
              "    }\n",
              "\n",
              "    .dataframe tbody tr th {\n",
              "        vertical-align: top;\n",
              "    }\n",
              "\n",
              "    .dataframe thead th {\n",
              "        text-align: right;\n",
              "    }\n",
              "</style>\n",
              "<table border=\"1\" class=\"dataframe\">\n",
              "  <thead>\n",
              "    <tr style=\"text-align: right;\">\n",
              "      <th></th>\n",
              "      <th>Account No</th>\n",
              "      <th>Bank Address</th>\n",
              "      <th>City</th>\n",
              "      <th>Pin code</th>\n",
              "      <th>IFSC Code</th>\n",
              "      <th>MICR Code</th>\n",
              "      <th>Customer Name</th>\n",
              "      <th>Statement Period</th>\n",
              "    </tr>\n",
              "  </thead>\n",
              "  <tbody>\n",
              "    <tr>\n",
              "      <th>Description</th>\n",
              "      <td>5237100100001639</td>\n",
              "      <td>St ANTHONY High SCHOOL MARVE ROADMALAD(W)</td>\n",
              "      <td>Mumbai</td>\n",
              "      <td>400095</td>\n",
              "      <td>PUNB0523710</td>\n",
              "      <td>400024169</td>\n",
              "      <td>OLIVIA JOSEPH AMBROSE</td>\n",
              "      <td>(25/11/2022, 31/12/2022)</td>\n",
              "    </tr>\n",
              "  </tbody>\n",
              "</table>\n",
              "</div>\n",
              "    <div class=\"colab-df-buttons\">\n",
              "\n",
              "  <div class=\"colab-df-container\">\n",
              "    <button class=\"colab-df-convert\" onclick=\"convertToInteractive('df-63efc4c6-3e78-4798-a0d9-3ce56afa5dad')\"\n",
              "            title=\"Convert this dataframe to an interactive table.\"\n",
              "            style=\"display:none;\">\n",
              "\n",
              "  <svg xmlns=\"http://www.w3.org/2000/svg\" height=\"24px\" viewBox=\"0 -960 960 960\">\n",
              "    <path d=\"M120-120v-720h720v720H120Zm60-500h600v-160H180v160Zm220 220h160v-160H400v160Zm0 220h160v-160H400v160ZM180-400h160v-160H180v160Zm440 0h160v-160H620v160ZM180-180h160v-160H180v160Zm440 0h160v-160H620v160Z\"/>\n",
              "  </svg>\n",
              "    </button>\n",
              "\n",
              "  <style>\n",
              "    .colab-df-container {\n",
              "      display:flex;\n",
              "      gap: 12px;\n",
              "    }\n",
              "\n",
              "    .colab-df-convert {\n",
              "      background-color: #E8F0FE;\n",
              "      border: none;\n",
              "      border-radius: 50%;\n",
              "      cursor: pointer;\n",
              "      display: none;\n",
              "      fill: #1967D2;\n",
              "      height: 32px;\n",
              "      padding: 0 0 0 0;\n",
              "      width: 32px;\n",
              "    }\n",
              "\n",
              "    .colab-df-convert:hover {\n",
              "      background-color: #E2EBFA;\n",
              "      box-shadow: 0px 1px 2px rgba(60, 64, 67, 0.3), 0px 1px 3px 1px rgba(60, 64, 67, 0.15);\n",
              "      fill: #174EA6;\n",
              "    }\n",
              "\n",
              "    .colab-df-buttons div {\n",
              "      margin-bottom: 4px;\n",
              "    }\n",
              "\n",
              "    [theme=dark] .colab-df-convert {\n",
              "      background-color: #3B4455;\n",
              "      fill: #D2E3FC;\n",
              "    }\n",
              "\n",
              "    [theme=dark] .colab-df-convert:hover {\n",
              "      background-color: #434B5C;\n",
              "      box-shadow: 0px 1px 3px 1px rgba(0, 0, 0, 0.15);\n",
              "      filter: drop-shadow(0px 1px 2px rgba(0, 0, 0, 0.3));\n",
              "      fill: #FFFFFF;\n",
              "    }\n",
              "  </style>\n",
              "\n",
              "    <script>\n",
              "      const buttonEl =\n",
              "        document.querySelector('#df-63efc4c6-3e78-4798-a0d9-3ce56afa5dad button.colab-df-convert');\n",
              "      buttonEl.style.display =\n",
              "        google.colab.kernel.accessAllowed ? 'block' : 'none';\n",
              "\n",
              "      async function convertToInteractive(key) {\n",
              "        const element = document.querySelector('#df-63efc4c6-3e78-4798-a0d9-3ce56afa5dad');\n",
              "        const dataTable =\n",
              "          await google.colab.kernel.invokeFunction('convertToInteractive',\n",
              "                                                    [key], {});\n",
              "        if (!dataTable) return;\n",
              "\n",
              "        const docLinkHtml = 'Like what you see? Visit the ' +\n",
              "          '<a target=\"_blank\" href=https://colab.research.google.com/notebooks/data_table.ipynb>data table notebook</a>'\n",
              "          + ' to learn more about interactive tables.';\n",
              "        element.innerHTML = '';\n",
              "        dataTable['output_type'] = 'display_data';\n",
              "        await google.colab.output.renderOutput(dataTable, element);\n",
              "        const docLink = document.createElement('div');\n",
              "        docLink.innerHTML = docLinkHtml;\n",
              "        element.appendChild(docLink);\n",
              "      }\n",
              "    </script>\n",
              "  </div>\n",
              "\n",
              "\n",
              "  <div id=\"id_7658dfdc-2964-427f-8e57-5b97b220aef3\">\n",
              "    <style>\n",
              "      .colab-df-generate {\n",
              "        background-color: #E8F0FE;\n",
              "        border: none;\n",
              "        border-radius: 50%;\n",
              "        cursor: pointer;\n",
              "        display: none;\n",
              "        fill: #1967D2;\n",
              "        height: 32px;\n",
              "        padding: 0 0 0 0;\n",
              "        width: 32px;\n",
              "      }\n",
              "\n",
              "      .colab-df-generate:hover {\n",
              "        background-color: #E2EBFA;\n",
              "        box-shadow: 0px 1px 2px rgba(60, 64, 67, 0.3), 0px 1px 3px 1px rgba(60, 64, 67, 0.15);\n",
              "        fill: #174EA6;\n",
              "      }\n",
              "\n",
              "      [theme=dark] .colab-df-generate {\n",
              "        background-color: #3B4455;\n",
              "        fill: #D2E3FC;\n",
              "      }\n",
              "\n",
              "      [theme=dark] .colab-df-generate:hover {\n",
              "        background-color: #434B5C;\n",
              "        box-shadow: 0px 1px 3px 1px rgba(0, 0, 0, 0.15);\n",
              "        filter: drop-shadow(0px 1px 2px rgba(0, 0, 0, 0.3));\n",
              "        fill: #FFFFFF;\n",
              "      }\n",
              "    </style>\n",
              "    <button class=\"colab-df-generate\" onclick=\"generateWithVariable('merged_df_acc')\"\n",
              "            title=\"Generate code using this dataframe.\"\n",
              "            style=\"display:none;\">\n",
              "\n",
              "  <svg xmlns=\"http://www.w3.org/2000/svg\" height=\"24px\"viewBox=\"0 0 24 24\"\n",
              "       width=\"24px\">\n",
              "    <path d=\"M7,19H8.4L18.45,9,17,7.55,7,17.6ZM5,21V16.75L18.45,3.32a2,2,0,0,1,2.83,0l1.4,1.43a1.91,1.91,0,0,1,.58,1.4,1.91,1.91,0,0,1-.58,1.4L9.25,21ZM18.45,9,17,7.55Zm-12,3A5.31,5.31,0,0,0,4.9,8.1,5.31,5.31,0,0,0,1,6.5,5.31,5.31,0,0,0,4.9,4.9,5.31,5.31,0,0,0,6.5,1,5.31,5.31,0,0,0,8.1,4.9,5.31,5.31,0,0,0,12,6.5,5.46,5.46,0,0,0,6.5,12Z\"/>\n",
              "  </svg>\n",
              "    </button>\n",
              "    <script>\n",
              "      (() => {\n",
              "      const buttonEl =\n",
              "        document.querySelector('#id_7658dfdc-2964-427f-8e57-5b97b220aef3 button.colab-df-generate');\n",
              "      buttonEl.style.display =\n",
              "        google.colab.kernel.accessAllowed ? 'block' : 'none';\n",
              "\n",
              "      buttonEl.onclick = () => {\n",
              "        google.colab.notebook.generateWithVariable('merged_df_acc');\n",
              "      }\n",
              "      })();\n",
              "    </script>\n",
              "  </div>\n",
              "\n",
              "    </div>\n",
              "  </div>\n"
            ],
            "application/vnd.google.colaboratory.intrinsic+json": {
              "type": "dataframe",
              "variable_name": "merged_df_acc",
              "summary": "{\n  \"name\": \"merged_df_acc\",\n  \"rows\": 1,\n  \"fields\": [\n    {\n      \"column\": \"Account No\",\n      \"properties\": {\n        \"dtype\": \"string\",\n        \"num_unique_values\": 1,\n        \"samples\": [\n          \"5237100100001639\"\n        ],\n        \"semantic_type\": \"\",\n        \"description\": \"\"\n      }\n    },\n    {\n      \"column\": \"Bank Address\",\n      \"properties\": {\n        \"dtype\": \"string\",\n        \"num_unique_values\": 1,\n        \"samples\": [\n          \"St ANTHONY High SCHOOL MARVE ROADMALAD(W)\"\n        ],\n        \"semantic_type\": \"\",\n        \"description\": \"\"\n      }\n    },\n    {\n      \"column\": \"City\",\n      \"properties\": {\n        \"dtype\": \"string\",\n        \"num_unique_values\": 1,\n        \"samples\": [\n          \"Mumbai\"\n        ],\n        \"semantic_type\": \"\",\n        \"description\": \"\"\n      }\n    },\n    {\n      \"column\": \"Pin code\",\n      \"properties\": {\n        \"dtype\": \"string\",\n        \"num_unique_values\": 1,\n        \"samples\": [\n          \"400095\"\n        ],\n        \"semantic_type\": \"\",\n        \"description\": \"\"\n      }\n    },\n    {\n      \"column\": \"IFSC Code\",\n      \"properties\": {\n        \"dtype\": \"string\",\n        \"num_unique_values\": 1,\n        \"samples\": [\n          \"PUNB0523710\"\n        ],\n        \"semantic_type\": \"\",\n        \"description\": \"\"\n      }\n    },\n    {\n      \"column\": \"MICR Code\",\n      \"properties\": {\n        \"dtype\": \"string\",\n        \"num_unique_values\": 1,\n        \"samples\": [\n          \"400024169\"\n        ],\n        \"semantic_type\": \"\",\n        \"description\": \"\"\n      }\n    },\n    {\n      \"column\": \"Customer Name\",\n      \"properties\": {\n        \"dtype\": \"string\",\n        \"num_unique_values\": 1,\n        \"samples\": [\n          \"OLIVIA JOSEPH AMBROSE\"\n        ],\n        \"semantic_type\": \"\",\n        \"description\": \"\"\n      }\n    },\n    {\n      \"column\": \"Statement Period\",\n      \"properties\": {\n        \"dtype\": \"string\",\n        \"num_unique_values\": 1,\n        \"samples\": [\n          [\n            \"25/11/2022\",\n            \"31/12/2022\"\n          ]\n        ],\n        \"semantic_type\": \"\",\n        \"description\": \"\"\n      }\n    }\n  ]\n}"
            }
          },
          "metadata": {},
          "execution_count": 14
        }
      ]
    },
    {
      "cell_type": "markdown",
      "source": [
        "## Segregating the data\n",
        "\n",
        "<span style=\"color:blue\"> Transaction Details  </span>"
      ],
      "metadata": {
        "id": "SJzf6r_-SiQy"
      }
    },
    {
      "cell_type": "markdown",
      "source": [
        "<span style=\"color:blue\"> In this section, the process involves extracting and categorizing transaction-related information from an image. Using regular expressions, specific patterns are identified for transaction dates, withdrawal amounts, deposit amounts, balance, and narration details. Each type of information is stored in separate DataFrames—`df8` for transaction dates, `df9` for withdrawal amounts, `df10` for deposit amounts, `df11` for balance, and `df12` for naration. The extracted data is then merged into a consolidated DataFrame named `merged_df_trans`."
      ],
      "metadata": {
        "id": "7F_EA1qkVDp5"
      }
    },
    {
      "cell_type": "code",
      "source": [
        "import re\n",
        "import pandas as pd\n",
        "\n",
        "# Check if 'Transaction Date' is in the text\n",
        "if 'Trans' in text:\n",
        "    column_head = 'Transaction Date'\n",
        "    pattern = r'\\b\\d{2}/\\d{2}/\\d{4}\\b'  # Assuming the date format is MM/DD/YYYY\n",
        "    matches = re.findall(pattern, text)\n",
        "\n",
        "    # Collect dates in a list\n",
        "    dates_list = [date for date in matches if date]\n",
        "\n",
        "    # Create a DataFrame\n",
        "    df8 = pd.DataFrame({column_head: dates_list})\n",
        "\n",
        "    print(df8)\n",
        "else:\n",
        "    print(\"Transaction Date not found in the text.\")\n"
      ],
      "metadata": {
        "colab": {
          "base_uri": "https://localhost:8080/"
        },
        "id": "qMd45LtP7aEJ",
        "outputId": "693e51d5-31a6-4339-c654-ee7c6fbc0045"
      },
      "execution_count": 15,
      "outputs": [
        {
          "output_type": "stream",
          "name": "stdout",
          "text": [
            "   Transaction Date\n",
            "0        25/11/2022\n",
            "1        31/12/2022\n",
            "2        31/12/2022\n",
            "3        31/12/2022\n",
            "4        19/12/2022\n",
            "5        19/12/2022\n",
            "6        19/12/2022\n",
            "7        19/12/2022\n",
            "8        13/12/2022\n",
            "9        13/12/2022\n",
            "10       13/12/2022\n",
            "11       12/12/2022\n",
            "12       09/12/2022\n"
          ]
        }
      ]
    },
    {
      "cell_type": "code",
      "source": [
        "if 'Withdrawal' in text:\n",
        "    column_head = 'Withdrawal'\n",
        "    pattern = re.compile(r'\\b\\d+\\.\\d+\\b')\n",
        "    matches = re.findall(pattern, text)\n",
        "\n",
        "    # Collect withdrawal in a list\n",
        "    withd = [withd for withd in matches if withd]\n",
        "\n",
        "    # Create a DataFrame\n",
        "    df9 = pd.DataFrame({column_head: withd})\n",
        "\n",
        "    print(df9)\n",
        "else:\n",
        "    print(\"Withdrawal not found in the text.\")\n"
      ],
      "metadata": {
        "colab": {
          "base_uri": "https://localhost:8080/"
        },
        "id": "QIe5pj23Cqta",
        "outputId": "9ec87a97-33a9-40af-cec9-f9bde5e9d6a6"
      },
      "execution_count": 16,
      "outputs": [
        {
          "output_type": "stream",
          "name": "stdout",
          "text": [
            "   Withdrawal\n",
            "0     331.001\n",
            "1      948.80\n",
            "2      331.00\n",
            "3      617.80\n",
            "4      140.00\n",
            "5      948.80\n",
            "6      699.00\n",
            "7      088.80\n",
            "8      360.00\n",
            "9      787.80\n",
            "10     600.00\n",
            "11     147.80\n",
            "12     300.00\n",
            "13     547.80\n",
            "14     600.00\n",
            "15     247.80\n",
            "16      95.00\n",
            "17     847.80\n",
            "18     000.00\n",
            "19     942.80\n",
            "20      5.001\n",
            "21     942.80\n"
          ]
        }
      ]
    },
    {
      "cell_type": "code",
      "source": [
        "if 'Deposit' in text:\n",
        "    column_head = 'Deposit'\n",
        "    pattern = re.compile(r'\\b\\d+\\.\\d+\\b')\n",
        "    matches = re.findall(pattern, text)\n",
        "\n",
        "    # Collect deposit in a list\n",
        "    dep = [dep for dep in matches if dep]\n",
        "\n",
        "    # Create a DataFrame\n",
        "    df10 = pd.DataFrame({column_head: dep})\n",
        "\n",
        "    print(df10)\n",
        "else:\n",
        "    print(\"Deposit not found in the text.\")\n"
      ],
      "metadata": {
        "colab": {
          "base_uri": "https://localhost:8080/"
        },
        "id": "NFmXuPL0Eq1Y",
        "outputId": "1daac339-2461-4bb8-a98f-52151b620d60"
      },
      "execution_count": 17,
      "outputs": [
        {
          "output_type": "stream",
          "name": "stdout",
          "text": [
            "    Deposit\n",
            "0   331.001\n",
            "1    948.80\n",
            "2    331.00\n",
            "3    617.80\n",
            "4    140.00\n",
            "5    948.80\n",
            "6    699.00\n",
            "7    088.80\n",
            "8    360.00\n",
            "9    787.80\n",
            "10   600.00\n",
            "11   147.80\n",
            "12   300.00\n",
            "13   547.80\n",
            "14   600.00\n",
            "15   247.80\n",
            "16    95.00\n",
            "17   847.80\n",
            "18   000.00\n",
            "19   942.80\n",
            "20    5.001\n",
            "21   942.80\n"
          ]
        }
      ]
    },
    {
      "cell_type": "code",
      "source": [
        "if 'Balance' in text:\n",
        "    column_head = 'Balance'\n",
        "    pattern = re.compile(r'\\b\\d+\\,\\b\\d+\\.\\d+\\b Cr')\n",
        "    matches = re.findall(pattern, text)\n",
        "\n",
        "    # Collect balance in a list\n",
        "    bal = [bal for bal in matches if bal]\n",
        "\n",
        "    # Create a DataFrame\n",
        "    df11 = pd.DataFrame({column_head: bal})\n",
        "\n",
        "    print(df11)\n",
        "else:\n",
        "    print(\"Balance not found in the text.\")\n"
      ],
      "metadata": {
        "colab": {
          "base_uri": "https://localhost:8080/"
        },
        "id": "ijoGdjtWFEts",
        "outputId": "3347607e-92e6-4644-a78c-034de27dff07"
      },
      "execution_count": 18,
      "outputs": [
        {
          "output_type": "stream",
          "name": "stdout",
          "text": [
            "        Balance\n",
            "0   2,948.80 Cr\n",
            "1   2,617.80 Cr\n",
            "2   2,948.80 Cr\n",
            "3   3,088.80 Cr\n",
            "4   3,787.80 Cr\n",
            "5   4,147.80 Cr\n",
            "6   3,547.80 Cr\n",
            "7   3,247.80 Cr\n",
            "8   3,847.80 Cr\n",
            "9   3,942.80 Cr\n",
            "10  2,942.80 Cr\n"
          ]
        }
      ]
    },
    {
      "cell_type": "code",
      "source": [
        "if 'Nar' in text:\n",
        "    column_head = 'Withdrawed or Deposited to'\n",
        "    pattern = re.compile(r'(^[A-Z]+/\\d+/\\w+/\\S+)')\n",
        "    matches = re.findall(pattern,text)\n",
        "\n",
        "    # Collect Naration in a list\n",
        "    na = [na for na in matches if na]\n",
        "\n",
        "    # Create a DataFrame\n",
        "    df12 = pd.DataFrame({column_head: na})\n",
        "\n",
        "    print(df12)\n",
        "else:\n",
        "    print(\"Naration not found in the text.\")\n",
        "df12"
      ],
      "metadata": {
        "colab": {
          "base_uri": "https://localhost:8080/",
          "height": 143
        },
        "id": "xvvScmB8Mcda",
        "outputId": "7ec543d2-539b-438d-ddea-8753ee770e2f"
      },
      "execution_count": 19,
      "outputs": [
        {
          "output_type": "stream",
          "name": "stdout",
          "text": [
            "Empty DataFrame\n",
            "Columns: [Withdrawed or Deposited to]\n",
            "Index: []\n"
          ]
        },
        {
          "output_type": "execute_result",
          "data": {
            "text/plain": [
              "Empty DataFrame\n",
              "Columns: [Withdrawed or Deposited to]\n",
              "Index: []"
            ],
            "text/html": [
              "\n",
              "  <div id=\"df-191efa96-1231-4f89-a9cb-5e17a36d217d\" class=\"colab-df-container\">\n",
              "    <div>\n",
              "<style scoped>\n",
              "    .dataframe tbody tr th:only-of-type {\n",
              "        vertical-align: middle;\n",
              "    }\n",
              "\n",
              "    .dataframe tbody tr th {\n",
              "        vertical-align: top;\n",
              "    }\n",
              "\n",
              "    .dataframe thead th {\n",
              "        text-align: right;\n",
              "    }\n",
              "</style>\n",
              "<table border=\"1\" class=\"dataframe\">\n",
              "  <thead>\n",
              "    <tr style=\"text-align: right;\">\n",
              "      <th></th>\n",
              "      <th>Withdrawed or Deposited to</th>\n",
              "    </tr>\n",
              "  </thead>\n",
              "  <tbody>\n",
              "  </tbody>\n",
              "</table>\n",
              "</div>\n",
              "    <div class=\"colab-df-buttons\">\n",
              "\n",
              "  <div class=\"colab-df-container\">\n",
              "    <button class=\"colab-df-convert\" onclick=\"convertToInteractive('df-191efa96-1231-4f89-a9cb-5e17a36d217d')\"\n",
              "            title=\"Convert this dataframe to an interactive table.\"\n",
              "            style=\"display:none;\">\n",
              "\n",
              "  <svg xmlns=\"http://www.w3.org/2000/svg\" height=\"24px\" viewBox=\"0 -960 960 960\">\n",
              "    <path d=\"M120-120v-720h720v720H120Zm60-500h600v-160H180v160Zm220 220h160v-160H400v160Zm0 220h160v-160H400v160ZM180-400h160v-160H180v160Zm440 0h160v-160H620v160ZM180-180h160v-160H180v160Zm440 0h160v-160H620v160Z\"/>\n",
              "  </svg>\n",
              "    </button>\n",
              "\n",
              "  <style>\n",
              "    .colab-df-container {\n",
              "      display:flex;\n",
              "      gap: 12px;\n",
              "    }\n",
              "\n",
              "    .colab-df-convert {\n",
              "      background-color: #E8F0FE;\n",
              "      border: none;\n",
              "      border-radius: 50%;\n",
              "      cursor: pointer;\n",
              "      display: none;\n",
              "      fill: #1967D2;\n",
              "      height: 32px;\n",
              "      padding: 0 0 0 0;\n",
              "      width: 32px;\n",
              "    }\n",
              "\n",
              "    .colab-df-convert:hover {\n",
              "      background-color: #E2EBFA;\n",
              "      box-shadow: 0px 1px 2px rgba(60, 64, 67, 0.3), 0px 1px 3px 1px rgba(60, 64, 67, 0.15);\n",
              "      fill: #174EA6;\n",
              "    }\n",
              "\n",
              "    .colab-df-buttons div {\n",
              "      margin-bottom: 4px;\n",
              "    }\n",
              "\n",
              "    [theme=dark] .colab-df-convert {\n",
              "      background-color: #3B4455;\n",
              "      fill: #D2E3FC;\n",
              "    }\n",
              "\n",
              "    [theme=dark] .colab-df-convert:hover {\n",
              "      background-color: #434B5C;\n",
              "      box-shadow: 0px 1px 3px 1px rgba(0, 0, 0, 0.15);\n",
              "      filter: drop-shadow(0px 1px 2px rgba(0, 0, 0, 0.3));\n",
              "      fill: #FFFFFF;\n",
              "    }\n",
              "  </style>\n",
              "\n",
              "    <script>\n",
              "      const buttonEl =\n",
              "        document.querySelector('#df-191efa96-1231-4f89-a9cb-5e17a36d217d button.colab-df-convert');\n",
              "      buttonEl.style.display =\n",
              "        google.colab.kernel.accessAllowed ? 'block' : 'none';\n",
              "\n",
              "      async function convertToInteractive(key) {\n",
              "        const element = document.querySelector('#df-191efa96-1231-4f89-a9cb-5e17a36d217d');\n",
              "        const dataTable =\n",
              "          await google.colab.kernel.invokeFunction('convertToInteractive',\n",
              "                                                    [key], {});\n",
              "        if (!dataTable) return;\n",
              "\n",
              "        const docLinkHtml = 'Like what you see? Visit the ' +\n",
              "          '<a target=\"_blank\" href=https://colab.research.google.com/notebooks/data_table.ipynb>data table notebook</a>'\n",
              "          + ' to learn more about interactive tables.';\n",
              "        element.innerHTML = '';\n",
              "        dataTable['output_type'] = 'display_data';\n",
              "        await google.colab.output.renderOutput(dataTable, element);\n",
              "        const docLink = document.createElement('div');\n",
              "        docLink.innerHTML = docLinkHtml;\n",
              "        element.appendChild(docLink);\n",
              "      }\n",
              "    </script>\n",
              "  </div>\n",
              "\n",
              "\n",
              "  <div id=\"id_146f591f-a49e-4746-80cb-3826081b9f28\">\n",
              "    <style>\n",
              "      .colab-df-generate {\n",
              "        background-color: #E8F0FE;\n",
              "        border: none;\n",
              "        border-radius: 50%;\n",
              "        cursor: pointer;\n",
              "        display: none;\n",
              "        fill: #1967D2;\n",
              "        height: 32px;\n",
              "        padding: 0 0 0 0;\n",
              "        width: 32px;\n",
              "      }\n",
              "\n",
              "      .colab-df-generate:hover {\n",
              "        background-color: #E2EBFA;\n",
              "        box-shadow: 0px 1px 2px rgba(60, 64, 67, 0.3), 0px 1px 3px 1px rgba(60, 64, 67, 0.15);\n",
              "        fill: #174EA6;\n",
              "      }\n",
              "\n",
              "      [theme=dark] .colab-df-generate {\n",
              "        background-color: #3B4455;\n",
              "        fill: #D2E3FC;\n",
              "      }\n",
              "\n",
              "      [theme=dark] .colab-df-generate:hover {\n",
              "        background-color: #434B5C;\n",
              "        box-shadow: 0px 1px 3px 1px rgba(0, 0, 0, 0.15);\n",
              "        filter: drop-shadow(0px 1px 2px rgba(0, 0, 0, 0.3));\n",
              "        fill: #FFFFFF;\n",
              "      }\n",
              "    </style>\n",
              "    <button class=\"colab-df-generate\" onclick=\"generateWithVariable('df12')\"\n",
              "            title=\"Generate code using this dataframe.\"\n",
              "            style=\"display:none;\">\n",
              "\n",
              "  <svg xmlns=\"http://www.w3.org/2000/svg\" height=\"24px\"viewBox=\"0 0 24 24\"\n",
              "       width=\"24px\">\n",
              "    <path d=\"M7,19H8.4L18.45,9,17,7.55,7,17.6ZM5,21V16.75L18.45,3.32a2,2,0,0,1,2.83,0l1.4,1.43a1.91,1.91,0,0,1,.58,1.4,1.91,1.91,0,0,1-.58,1.4L9.25,21ZM18.45,9,17,7.55Zm-12,3A5.31,5.31,0,0,0,4.9,8.1,5.31,5.31,0,0,0,1,6.5,5.31,5.31,0,0,0,4.9,4.9,5.31,5.31,0,0,0,6.5,1,5.31,5.31,0,0,0,8.1,4.9,5.31,5.31,0,0,0,12,6.5,5.46,5.46,0,0,0,6.5,12Z\"/>\n",
              "  </svg>\n",
              "    </button>\n",
              "    <script>\n",
              "      (() => {\n",
              "      const buttonEl =\n",
              "        document.querySelector('#id_146f591f-a49e-4746-80cb-3826081b9f28 button.colab-df-generate');\n",
              "      buttonEl.style.display =\n",
              "        google.colab.kernel.accessAllowed ? 'block' : 'none';\n",
              "\n",
              "      buttonEl.onclick = () => {\n",
              "        google.colab.notebook.generateWithVariable('df12');\n",
              "      }\n",
              "      })();\n",
              "    </script>\n",
              "  </div>\n",
              "\n",
              "    </div>\n",
              "  </div>\n"
            ],
            "application/vnd.google.colaboratory.intrinsic+json": {
              "type": "dataframe",
              "variable_name": "df12",
              "summary": "{\n  \"name\": \"df12\",\n  \"rows\": 0,\n  \"fields\": [\n    {\n      \"column\": \"Withdrawed or Deposited to\",\n      \"properties\": {\n        \"dtype\": \"number\",\n        \"std\": null,\n        \"min\": null,\n        \"max\": null,\n        \"num_unique_values\": 0,\n        \"samples\": [],\n        \"semantic_type\": \"\",\n        \"description\": \"\"\n      }\n    }\n  ]\n}"
            }
          },
          "metadata": {},
          "execution_count": 19
        }
      ]
    },
    {
      "cell_type": "code",
      "source": [],
      "metadata": {
        "id": "e-EnS23_FwYS"
      },
      "execution_count": 19,
      "outputs": []
    },
    {
      "cell_type": "code",
      "source": [
        "merged_df_trans = pd.merge(df8, df9, how='outer', left_index=True, right_index=True)\n",
        "merged_df_trans = pd.merge(merged_df_trans, df10, how='outer', left_index=True, right_index=True)\n",
        "merged_df_trans = pd.merge(merged_df_trans, df11, how='outer', left_index=True, right_index=True)\n",
        "merged_df_trans = pd.merge(merged_df_trans, df12, how='outer', left_index=True, right_index=True)"
      ],
      "metadata": {
        "id": "YYV1UVz7AvoB"
      },
      "execution_count": 22,
      "outputs": []
    },
    {
      "cell_type": "markdown",
      "source": [
        "## Tabula"
      ],
      "metadata": {
        "id": "vKHdjDrgGAOQ"
      }
    },
    {
      "cell_type": "code",
      "source": [
        "pip install tabula-py"
      ],
      "metadata": {
        "colab": {
          "base_uri": "https://localhost:8080/"
        },
        "id": "ccifFnYa3fI-",
        "outputId": "50c08a88-dc7a-440c-aaed-b032351f6d6f"
      },
      "execution_count": 23,
      "outputs": [
        {
          "output_type": "stream",
          "name": "stdout",
          "text": [
            "Collecting tabula-py\n",
            "  Downloading tabula_py-2.9.0-py3-none-any.whl (12.0 MB)\n",
            "\u001b[2K     \u001b[90m━━━━━━━━━━━━━━━━━━━━━━━━━━━━━━━━━━━━━━━━\u001b[0m \u001b[32m12.0/12.0 MB\u001b[0m \u001b[31m35.5 MB/s\u001b[0m eta \u001b[36m0:00:00\u001b[0m\n",
            "\u001b[?25hRequirement already satisfied: pandas>=0.25.3 in /usr/local/lib/python3.10/dist-packages (from tabula-py) (1.5.3)\n",
            "Requirement already satisfied: numpy in /usr/local/lib/python3.10/dist-packages (from tabula-py) (1.25.2)\n",
            "Requirement already satisfied: distro in /usr/lib/python3/dist-packages (from tabula-py) (1.7.0)\n",
            "Requirement already satisfied: python-dateutil>=2.8.1 in /usr/local/lib/python3.10/dist-packages (from pandas>=0.25.3->tabula-py) (2.8.2)\n",
            "Requirement already satisfied: pytz>=2020.1 in /usr/local/lib/python3.10/dist-packages (from pandas>=0.25.3->tabula-py) (2023.4)\n",
            "Requirement already satisfied: six>=1.5 in /usr/local/lib/python3.10/dist-packages (from python-dateutil>=2.8.1->pandas>=0.25.3->tabula-py) (1.16.0)\n",
            "Installing collected packages: tabula-py\n",
            "Successfully installed tabula-py-2.9.0\n"
          ]
        }
      ]
    },
    {
      "cell_type": "code",
      "source": [
        "import tabula\n",
        "df= tabula.read_pdf('/content/5237XXXXXXXXX163912-01-2024.pdf',pages=1)\n",
        "len(df)"
      ],
      "metadata": {
        "colab": {
          "base_uri": "https://localhost:8080/"
        },
        "id": "qw0Ug_sK84-p",
        "outputId": "c6396426-548b-44f4-b753-e79c27d0d13a"
      },
      "execution_count": 24,
      "outputs": [
        {
          "output_type": "stream",
          "name": "stderr",
          "text": [
            "WARNING:tabula.backend:Error importing jpype dependencies. Fallback to subprocess.\n",
            "WARNING:tabula.backend:No module named 'jpype'\n",
            "WARNING:tabula.backend:Got stderr: Feb 28, 2024 7:49:57 AM org.apache.pdfbox.pdmodel.font.FileSystemFontProvider loadDiskCache\n",
            "WARNING: New fonts found, font cache will be re-built\n",
            "Feb 28, 2024 7:49:57 AM org.apache.pdfbox.pdmodel.font.FileSystemFontProvider <init>\n",
            "WARNING: Building on-disk font cache, this may take a while\n",
            "Feb 28, 2024 7:49:57 AM org.apache.pdfbox.pdmodel.font.FileSystemFontProvider <init>\n",
            "WARNING: Finished building on-disk font cache, found 17 fonts\n",
            "Feb 28, 2024 7:49:57 AM org.apache.pdfbox.pdmodel.font.PDType1Font <init>\n",
            "WARNING: Using fallback font LiberationSans for base font Symbol\n",
            "Feb 28, 2024 7:49:57 AM org.apache.pdfbox.pdmodel.font.PDType1Font <init>\n",
            "WARNING: Using fallback font LiberationSans for base font ZapfDingbats\n",
            "\n"
          ]
        },
        {
          "output_type": "execute_result",
          "data": {
            "text/plain": [
              "1"
            ]
          },
          "metadata": {},
          "execution_count": 24
        }
      ]
    },
    {
      "cell_type": "code",
      "source": [
        "dfs = df[0]\n",
        "dfs\n"
      ],
      "metadata": {
        "colab": {
          "base_uri": "https://localhost:8080/",
          "height": 425
        },
        "id": "lOH3JlAfCjFp",
        "outputId": "2e4130b5-e902-472c-e18c-5cd370c910cf"
      },
      "execution_count": 25,
      "outputs": [
        {
          "output_type": "execute_result",
          "data": {
            "text/plain": [
              "   Transaction\\rDate  Cheque\\rNumber  Withdrawal   Deposit       Balance  \\\n",
              "0         31/12/2022             NaN         NaN    331.00  2,948.80 Cr.   \n",
              "1         31/12/2022             NaN       331.0       NaN  2,617.80 Cr.   \n",
              "2         19/12/2022             NaN       140.0       NaN  2,948.80 Cr.   \n",
              "3         19/12/2022             NaN       699.0       NaN  3,088.80 Cr.   \n",
              "4         19/12/2022             NaN       360.0       NaN  3,787.80 Cr.   \n",
              "5         19/12/2022             NaN         NaN    600.00  4,147.80 Cr.   \n",
              "6         13/12/2022             NaN         NaN    300.00  3,547.80 Cr.   \n",
              "7         13/12/2022             NaN       600.0       NaN  3,247.80 Cr.   \n",
              "8         13/12/2022             NaN        95.0       NaN  3,847.80 Cr.   \n",
              "9         12/12/2022             NaN         NaN  1,000.00  3,942.80 Cr.   \n",
              "10        09/12/2022             NaN         NaN      5.00  2,942.80 Cr.   \n",
              "11        09/12/2022             NaN       219.0       NaN  2,937.80 Cr.   \n",
              "\n",
              "                                            Narration  \n",
              "0   UPI/300112145471/P2V/nataline.ambrose@okicici/...  \n",
              "1   UPI/300140491697/P2M/zomato.payu@axisbank/Zom\\...  \n",
              "2   UPI/235341644939/P2V/verodsouza01@oksbi/VERO\\r...  \n",
              "3            POS 235319906044 WESTSIDE              \\  \n",
              "4            POS 235319873321 MINISO INFINITY MALAD \\  \n",
              "5   UPI/235335590617/P2V/nataline.ambrose@okicici/...  \n",
              "6   UPI/234770635134/P2V/verodsouza01@oksbi/VERO\\r...  \n",
              "7   UPI/234723665725/P2M/paytmqr281005050101qou5\\r...  \n",
              "8   UPI/234799641353/P2M/paytm-\\r64670120@paytm/In...  \n",
              "9   UPI/234619827771/P2V/nataline.ambrose@okicici/...  \n",
              "10  UPI/234382745383/P2V/goog-\\rpayment@okaxis/GOO...  \n",
              "11  UPI/234382728895/P2V/nishucardin@oksbi/Vita\\rN...  "
            ],
            "text/html": [
              "\n",
              "  <div id=\"df-20483227-a51c-471e-87ac-6d82628143f8\" class=\"colab-df-container\">\n",
              "    <div>\n",
              "<style scoped>\n",
              "    .dataframe tbody tr th:only-of-type {\n",
              "        vertical-align: middle;\n",
              "    }\n",
              "\n",
              "    .dataframe tbody tr th {\n",
              "        vertical-align: top;\n",
              "    }\n",
              "\n",
              "    .dataframe thead th {\n",
              "        text-align: right;\n",
              "    }\n",
              "</style>\n",
              "<table border=\"1\" class=\"dataframe\">\n",
              "  <thead>\n",
              "    <tr style=\"text-align: right;\">\n",
              "      <th></th>\n",
              "      <th>Transaction\\rDate</th>\n",
              "      <th>Cheque\\rNumber</th>\n",
              "      <th>Withdrawal</th>\n",
              "      <th>Deposit</th>\n",
              "      <th>Balance</th>\n",
              "      <th>Narration</th>\n",
              "    </tr>\n",
              "  </thead>\n",
              "  <tbody>\n",
              "    <tr>\n",
              "      <th>0</th>\n",
              "      <td>31/12/2022</td>\n",
              "      <td>NaN</td>\n",
              "      <td>NaN</td>\n",
              "      <td>331.00</td>\n",
              "      <td>2,948.80 Cr.</td>\n",
              "      <td>UPI/300112145471/P2V/nataline.ambrose@okicici/...</td>\n",
              "    </tr>\n",
              "    <tr>\n",
              "      <th>1</th>\n",
              "      <td>31/12/2022</td>\n",
              "      <td>NaN</td>\n",
              "      <td>331.0</td>\n",
              "      <td>NaN</td>\n",
              "      <td>2,617.80 Cr.</td>\n",
              "      <td>UPI/300140491697/P2M/zomato.payu@axisbank/Zom\\...</td>\n",
              "    </tr>\n",
              "    <tr>\n",
              "      <th>2</th>\n",
              "      <td>19/12/2022</td>\n",
              "      <td>NaN</td>\n",
              "      <td>140.0</td>\n",
              "      <td>NaN</td>\n",
              "      <td>2,948.80 Cr.</td>\n",
              "      <td>UPI/235341644939/P2V/verodsouza01@oksbi/VERO\\r...</td>\n",
              "    </tr>\n",
              "    <tr>\n",
              "      <th>3</th>\n",
              "      <td>19/12/2022</td>\n",
              "      <td>NaN</td>\n",
              "      <td>699.0</td>\n",
              "      <td>NaN</td>\n",
              "      <td>3,088.80 Cr.</td>\n",
              "      <td>POS 235319906044 WESTSIDE              \\</td>\n",
              "    </tr>\n",
              "    <tr>\n",
              "      <th>4</th>\n",
              "      <td>19/12/2022</td>\n",
              "      <td>NaN</td>\n",
              "      <td>360.0</td>\n",
              "      <td>NaN</td>\n",
              "      <td>3,787.80 Cr.</td>\n",
              "      <td>POS 235319873321 MINISO INFINITY MALAD \\</td>\n",
              "    </tr>\n",
              "    <tr>\n",
              "      <th>5</th>\n",
              "      <td>19/12/2022</td>\n",
              "      <td>NaN</td>\n",
              "      <td>NaN</td>\n",
              "      <td>600.00</td>\n",
              "      <td>4,147.80 Cr.</td>\n",
              "      <td>UPI/235335590617/P2V/nataline.ambrose@okicici/...</td>\n",
              "    </tr>\n",
              "    <tr>\n",
              "      <th>6</th>\n",
              "      <td>13/12/2022</td>\n",
              "      <td>NaN</td>\n",
              "      <td>NaN</td>\n",
              "      <td>300.00</td>\n",
              "      <td>3,547.80 Cr.</td>\n",
              "      <td>UPI/234770635134/P2V/verodsouza01@oksbi/VERO\\r...</td>\n",
              "    </tr>\n",
              "    <tr>\n",
              "      <th>7</th>\n",
              "      <td>13/12/2022</td>\n",
              "      <td>NaN</td>\n",
              "      <td>600.0</td>\n",
              "      <td>NaN</td>\n",
              "      <td>3,247.80 Cr.</td>\n",
              "      <td>UPI/234723665725/P2M/paytmqr281005050101qou5\\r...</td>\n",
              "    </tr>\n",
              "    <tr>\n",
              "      <th>8</th>\n",
              "      <td>13/12/2022</td>\n",
              "      <td>NaN</td>\n",
              "      <td>95.0</td>\n",
              "      <td>NaN</td>\n",
              "      <td>3,847.80 Cr.</td>\n",
              "      <td>UPI/234799641353/P2M/paytm-\\r64670120@paytm/In...</td>\n",
              "    </tr>\n",
              "    <tr>\n",
              "      <th>9</th>\n",
              "      <td>12/12/2022</td>\n",
              "      <td>NaN</td>\n",
              "      <td>NaN</td>\n",
              "      <td>1,000.00</td>\n",
              "      <td>3,942.80 Cr.</td>\n",
              "      <td>UPI/234619827771/P2V/nataline.ambrose@okicici/...</td>\n",
              "    </tr>\n",
              "    <tr>\n",
              "      <th>10</th>\n",
              "      <td>09/12/2022</td>\n",
              "      <td>NaN</td>\n",
              "      <td>NaN</td>\n",
              "      <td>5.00</td>\n",
              "      <td>2,942.80 Cr.</td>\n",
              "      <td>UPI/234382745383/P2V/goog-\\rpayment@okaxis/GOO...</td>\n",
              "    </tr>\n",
              "    <tr>\n",
              "      <th>11</th>\n",
              "      <td>09/12/2022</td>\n",
              "      <td>NaN</td>\n",
              "      <td>219.0</td>\n",
              "      <td>NaN</td>\n",
              "      <td>2,937.80 Cr.</td>\n",
              "      <td>UPI/234382728895/P2V/nishucardin@oksbi/Vita\\rN...</td>\n",
              "    </tr>\n",
              "  </tbody>\n",
              "</table>\n",
              "</div>\n",
              "    <div class=\"colab-df-buttons\">\n",
              "\n",
              "  <div class=\"colab-df-container\">\n",
              "    <button class=\"colab-df-convert\" onclick=\"convertToInteractive('df-20483227-a51c-471e-87ac-6d82628143f8')\"\n",
              "            title=\"Convert this dataframe to an interactive table.\"\n",
              "            style=\"display:none;\">\n",
              "\n",
              "  <svg xmlns=\"http://www.w3.org/2000/svg\" height=\"24px\" viewBox=\"0 -960 960 960\">\n",
              "    <path d=\"M120-120v-720h720v720H120Zm60-500h600v-160H180v160Zm220 220h160v-160H400v160Zm0 220h160v-160H400v160ZM180-400h160v-160H180v160Zm440 0h160v-160H620v160ZM180-180h160v-160H180v160Zm440 0h160v-160H620v160Z\"/>\n",
              "  </svg>\n",
              "    </button>\n",
              "\n",
              "  <style>\n",
              "    .colab-df-container {\n",
              "      display:flex;\n",
              "      gap: 12px;\n",
              "    }\n",
              "\n",
              "    .colab-df-convert {\n",
              "      background-color: #E8F0FE;\n",
              "      border: none;\n",
              "      border-radius: 50%;\n",
              "      cursor: pointer;\n",
              "      display: none;\n",
              "      fill: #1967D2;\n",
              "      height: 32px;\n",
              "      padding: 0 0 0 0;\n",
              "      width: 32px;\n",
              "    }\n",
              "\n",
              "    .colab-df-convert:hover {\n",
              "      background-color: #E2EBFA;\n",
              "      box-shadow: 0px 1px 2px rgba(60, 64, 67, 0.3), 0px 1px 3px 1px rgba(60, 64, 67, 0.15);\n",
              "      fill: #174EA6;\n",
              "    }\n",
              "\n",
              "    .colab-df-buttons div {\n",
              "      margin-bottom: 4px;\n",
              "    }\n",
              "\n",
              "    [theme=dark] .colab-df-convert {\n",
              "      background-color: #3B4455;\n",
              "      fill: #D2E3FC;\n",
              "    }\n",
              "\n",
              "    [theme=dark] .colab-df-convert:hover {\n",
              "      background-color: #434B5C;\n",
              "      box-shadow: 0px 1px 3px 1px rgba(0, 0, 0, 0.15);\n",
              "      filter: drop-shadow(0px 1px 2px rgba(0, 0, 0, 0.3));\n",
              "      fill: #FFFFFF;\n",
              "    }\n",
              "  </style>\n",
              "\n",
              "    <script>\n",
              "      const buttonEl =\n",
              "        document.querySelector('#df-20483227-a51c-471e-87ac-6d82628143f8 button.colab-df-convert');\n",
              "      buttonEl.style.display =\n",
              "        google.colab.kernel.accessAllowed ? 'block' : 'none';\n",
              "\n",
              "      async function convertToInteractive(key) {\n",
              "        const element = document.querySelector('#df-20483227-a51c-471e-87ac-6d82628143f8');\n",
              "        const dataTable =\n",
              "          await google.colab.kernel.invokeFunction('convertToInteractive',\n",
              "                                                    [key], {});\n",
              "        if (!dataTable) return;\n",
              "\n",
              "        const docLinkHtml = 'Like what you see? Visit the ' +\n",
              "          '<a target=\"_blank\" href=https://colab.research.google.com/notebooks/data_table.ipynb>data table notebook</a>'\n",
              "          + ' to learn more about interactive tables.';\n",
              "        element.innerHTML = '';\n",
              "        dataTable['output_type'] = 'display_data';\n",
              "        await google.colab.output.renderOutput(dataTable, element);\n",
              "        const docLink = document.createElement('div');\n",
              "        docLink.innerHTML = docLinkHtml;\n",
              "        element.appendChild(docLink);\n",
              "      }\n",
              "    </script>\n",
              "  </div>\n",
              "\n",
              "\n",
              "<div id=\"df-3212bdf4-08da-4c2f-976a-1ff20cad1d5b\">\n",
              "  <button class=\"colab-df-quickchart\" onclick=\"quickchart('df-3212bdf4-08da-4c2f-976a-1ff20cad1d5b')\"\n",
              "            title=\"Suggest charts\"\n",
              "            style=\"display:none;\">\n",
              "\n",
              "<svg xmlns=\"http://www.w3.org/2000/svg\" height=\"24px\"viewBox=\"0 0 24 24\"\n",
              "     width=\"24px\">\n",
              "    <g>\n",
              "        <path d=\"M19 3H5c-1.1 0-2 .9-2 2v14c0 1.1.9 2 2 2h14c1.1 0 2-.9 2-2V5c0-1.1-.9-2-2-2zM9 17H7v-7h2v7zm4 0h-2V7h2v10zm4 0h-2v-4h2v4z\"/>\n",
              "    </g>\n",
              "</svg>\n",
              "  </button>\n",
              "\n",
              "<style>\n",
              "  .colab-df-quickchart {\n",
              "      --bg-color: #E8F0FE;\n",
              "      --fill-color: #1967D2;\n",
              "      --hover-bg-color: #E2EBFA;\n",
              "      --hover-fill-color: #174EA6;\n",
              "      --disabled-fill-color: #AAA;\n",
              "      --disabled-bg-color: #DDD;\n",
              "  }\n",
              "\n",
              "  [theme=dark] .colab-df-quickchart {\n",
              "      --bg-color: #3B4455;\n",
              "      --fill-color: #D2E3FC;\n",
              "      --hover-bg-color: #434B5C;\n",
              "      --hover-fill-color: #FFFFFF;\n",
              "      --disabled-bg-color: #3B4455;\n",
              "      --disabled-fill-color: #666;\n",
              "  }\n",
              "\n",
              "  .colab-df-quickchart {\n",
              "    background-color: var(--bg-color);\n",
              "    border: none;\n",
              "    border-radius: 50%;\n",
              "    cursor: pointer;\n",
              "    display: none;\n",
              "    fill: var(--fill-color);\n",
              "    height: 32px;\n",
              "    padding: 0;\n",
              "    width: 32px;\n",
              "  }\n",
              "\n",
              "  .colab-df-quickchart:hover {\n",
              "    background-color: var(--hover-bg-color);\n",
              "    box-shadow: 0 1px 2px rgba(60, 64, 67, 0.3), 0 1px 3px 1px rgba(60, 64, 67, 0.15);\n",
              "    fill: var(--button-hover-fill-color);\n",
              "  }\n",
              "\n",
              "  .colab-df-quickchart-complete:disabled,\n",
              "  .colab-df-quickchart-complete:disabled:hover {\n",
              "    background-color: var(--disabled-bg-color);\n",
              "    fill: var(--disabled-fill-color);\n",
              "    box-shadow: none;\n",
              "  }\n",
              "\n",
              "  .colab-df-spinner {\n",
              "    border: 2px solid var(--fill-color);\n",
              "    border-color: transparent;\n",
              "    border-bottom-color: var(--fill-color);\n",
              "    animation:\n",
              "      spin 1s steps(1) infinite;\n",
              "  }\n",
              "\n",
              "  @keyframes spin {\n",
              "    0% {\n",
              "      border-color: transparent;\n",
              "      border-bottom-color: var(--fill-color);\n",
              "      border-left-color: var(--fill-color);\n",
              "    }\n",
              "    20% {\n",
              "      border-color: transparent;\n",
              "      border-left-color: var(--fill-color);\n",
              "      border-top-color: var(--fill-color);\n",
              "    }\n",
              "    30% {\n",
              "      border-color: transparent;\n",
              "      border-left-color: var(--fill-color);\n",
              "      border-top-color: var(--fill-color);\n",
              "      border-right-color: var(--fill-color);\n",
              "    }\n",
              "    40% {\n",
              "      border-color: transparent;\n",
              "      border-right-color: var(--fill-color);\n",
              "      border-top-color: var(--fill-color);\n",
              "    }\n",
              "    60% {\n",
              "      border-color: transparent;\n",
              "      border-right-color: var(--fill-color);\n",
              "    }\n",
              "    80% {\n",
              "      border-color: transparent;\n",
              "      border-right-color: var(--fill-color);\n",
              "      border-bottom-color: var(--fill-color);\n",
              "    }\n",
              "    90% {\n",
              "      border-color: transparent;\n",
              "      border-bottom-color: var(--fill-color);\n",
              "    }\n",
              "  }\n",
              "</style>\n",
              "\n",
              "  <script>\n",
              "    async function quickchart(key) {\n",
              "      const quickchartButtonEl =\n",
              "        document.querySelector('#' + key + ' button');\n",
              "      quickchartButtonEl.disabled = true;  // To prevent multiple clicks.\n",
              "      quickchartButtonEl.classList.add('colab-df-spinner');\n",
              "      try {\n",
              "        const charts = await google.colab.kernel.invokeFunction(\n",
              "            'suggestCharts', [key], {});\n",
              "      } catch (error) {\n",
              "        console.error('Error during call to suggestCharts:', error);\n",
              "      }\n",
              "      quickchartButtonEl.classList.remove('colab-df-spinner');\n",
              "      quickchartButtonEl.classList.add('colab-df-quickchart-complete');\n",
              "    }\n",
              "    (() => {\n",
              "      let quickchartButtonEl =\n",
              "        document.querySelector('#df-3212bdf4-08da-4c2f-976a-1ff20cad1d5b button');\n",
              "      quickchartButtonEl.style.display =\n",
              "        google.colab.kernel.accessAllowed ? 'block' : 'none';\n",
              "    })();\n",
              "  </script>\n",
              "</div>\n",
              "\n",
              "  <div id=\"id_a84b8f46-c413-42c5-880c-df953889e5b6\">\n",
              "    <style>\n",
              "      .colab-df-generate {\n",
              "        background-color: #E8F0FE;\n",
              "        border: none;\n",
              "        border-radius: 50%;\n",
              "        cursor: pointer;\n",
              "        display: none;\n",
              "        fill: #1967D2;\n",
              "        height: 32px;\n",
              "        padding: 0 0 0 0;\n",
              "        width: 32px;\n",
              "      }\n",
              "\n",
              "      .colab-df-generate:hover {\n",
              "        background-color: #E2EBFA;\n",
              "        box-shadow: 0px 1px 2px rgba(60, 64, 67, 0.3), 0px 1px 3px 1px rgba(60, 64, 67, 0.15);\n",
              "        fill: #174EA6;\n",
              "      }\n",
              "\n",
              "      [theme=dark] .colab-df-generate {\n",
              "        background-color: #3B4455;\n",
              "        fill: #D2E3FC;\n",
              "      }\n",
              "\n",
              "      [theme=dark] .colab-df-generate:hover {\n",
              "        background-color: #434B5C;\n",
              "        box-shadow: 0px 1px 3px 1px rgba(0, 0, 0, 0.15);\n",
              "        filter: drop-shadow(0px 1px 2px rgba(0, 0, 0, 0.3));\n",
              "        fill: #FFFFFF;\n",
              "      }\n",
              "    </style>\n",
              "    <button class=\"colab-df-generate\" onclick=\"generateWithVariable('dfs')\"\n",
              "            title=\"Generate code using this dataframe.\"\n",
              "            style=\"display:none;\">\n",
              "\n",
              "  <svg xmlns=\"http://www.w3.org/2000/svg\" height=\"24px\"viewBox=\"0 0 24 24\"\n",
              "       width=\"24px\">\n",
              "    <path d=\"M7,19H8.4L18.45,9,17,7.55,7,17.6ZM5,21V16.75L18.45,3.32a2,2,0,0,1,2.83,0l1.4,1.43a1.91,1.91,0,0,1,.58,1.4,1.91,1.91,0,0,1-.58,1.4L9.25,21ZM18.45,9,17,7.55Zm-12,3A5.31,5.31,0,0,0,4.9,8.1,5.31,5.31,0,0,0,1,6.5,5.31,5.31,0,0,0,4.9,4.9,5.31,5.31,0,0,0,6.5,1,5.31,5.31,0,0,0,8.1,4.9,5.31,5.31,0,0,0,12,6.5,5.46,5.46,0,0,0,6.5,12Z\"/>\n",
              "  </svg>\n",
              "    </button>\n",
              "    <script>\n",
              "      (() => {\n",
              "      const buttonEl =\n",
              "        document.querySelector('#id_a84b8f46-c413-42c5-880c-df953889e5b6 button.colab-df-generate');\n",
              "      buttonEl.style.display =\n",
              "        google.colab.kernel.accessAllowed ? 'block' : 'none';\n",
              "\n",
              "      buttonEl.onclick = () => {\n",
              "        google.colab.notebook.generateWithVariable('dfs');\n",
              "      }\n",
              "      })();\n",
              "    </script>\n",
              "  </div>\n",
              "\n",
              "    </div>\n",
              "  </div>\n"
            ],
            "application/vnd.google.colaboratory.intrinsic+json": {
              "type": "dataframe",
              "variable_name": "dfs",
              "repr_error": "'str' object has no attribute 'empty'"
            }
          },
          "metadata": {},
          "execution_count": 25
        }
      ]
    },
    {
      "cell_type": "markdown",
      "source": [
        "## Exporting to excel"
      ],
      "metadata": {
        "id": "FmgU7LjDTMCo"
      }
    },
    {
      "cell_type": "markdown",
      "source": [
        "<span style=\"color:blue\">The two merged data frames are then stored into a single exccel file but on two different sheets </span>"
      ],
      "metadata": {
        "id": "i2P7GjV3VdUY"
      }
    },
    {
      "cell_type": "code",
      "source": [
        "!pip install xlsxwriter\n",
        "excel_file_path = 'Final_Statement.xlsx'\n",
        "\n",
        "with pd.ExcelWriter(excel_file_path, engine='xlsxwriter') as writer:\n",
        "    # Write each DataFrame to a different sheet\n",
        "    merged_df_acc.to_excel(writer, sheet_name='Account details', index=False)\n",
        "    dfs.to_excel(writer, sheet_name='Transaction details', index=False)\n",
        "    print('success')"
      ],
      "metadata": {
        "colab": {
          "base_uri": "https://localhost:8080/"
        },
        "id": "zi7wxD-yquf8",
        "outputId": "a7825a03-5057-43ad-c4f9-5ad14aed788b"
      },
      "execution_count": 26,
      "outputs": [
        {
          "output_type": "stream",
          "name": "stdout",
          "text": [
            "Collecting xlsxwriter\n",
            "  Downloading XlsxWriter-3.2.0-py3-none-any.whl (159 kB)\n",
            "\u001b[?25l     \u001b[90m━━━━━━━━━━━━━━━━━━━━━━━━━━━━━━━━━━━━━━━━\u001b[0m \u001b[32m0.0/159.9 kB\u001b[0m \u001b[31m?\u001b[0m eta \u001b[36m-:--:--\u001b[0m\r\u001b[2K     \u001b[91m━━━━━━━━━━━━━━━━━━━━━━━━━━━━━━\u001b[0m\u001b[91m╸\u001b[0m\u001b[90m━━━━━━━━━\u001b[0m \u001b[32m122.9/159.9 kB\u001b[0m \u001b[31m3.5 MB/s\u001b[0m eta \u001b[36m0:00:01\u001b[0m\r\u001b[2K     \u001b[90m━━━━━━━━━━━━━━━━━━━━━━━━━━━━━━━━━━━━━━━━\u001b[0m \u001b[32m159.9/159.9 kB\u001b[0m \u001b[31m3.4 MB/s\u001b[0m eta \u001b[36m0:00:00\u001b[0m\n",
            "\u001b[?25hInstalling collected packages: xlsxwriter\n",
            "Successfully installed xlsxwriter-3.2.0\n",
            "success\n"
          ]
        }
      ]
    }
  ]
}