{
 "cells": [
  {
   "cell_type": "markdown",
   "id": "842bd2af-f8a7-4494-919a-47b58ae04d58",
   "metadata": {},
   "source": [
    "path: Specifies the absolute path to the root directory where the library and other necessary files are located."
   ]
  },
  {
   "cell_type": "code",
   "execution_count": 1,
   "id": "caac1a9a-53a1-424e-aa1e-d94ef2d4a9b4",
   "metadata": {},
   "outputs": [],
   "source": [
    "import sys\n",
    "import os\n",
    "path = os.path.abspath(os.path.join('C:\\\\Users\\\\user\\\\', 'Downloads', 'Convert_pdf_file_into_the_excel_file', 'Rule_Setup', 'Accounting_Library'))\n",
    "sys.path.append(path)\n"
   ]
  },
  {
   "cell_type": "markdown",
   "id": "77be8239-6696-4bdc-8f3d-92d2c49bfe6e",
   "metadata": {},
   "source": [
    "AccountConfiguration: Module imported from A_Rule_Engine.A_1_Ledger_Library. It  contains configurations related to ledger accounts.\n",
    "\n",
    "JournalEntryProcessor: Module imported from A_Rule_Engine.A_2_Purchase_Journal_Entry. It is responsible for processing expense journal entries."
   ]
  },
  {
   "cell_type": "code",
   "execution_count": 3,
   "id": "d38f3b07-710f-4b2f-9dc7-19c79eafc5f2",
   "metadata": {},
   "outputs": [
    {
     "name": "stdout",
     "output_type": "stream",
     "text": [
      "path ~\\Downloads\\Convert_pdf_file_into_the_excel_file\\Rule_Setup\\Accounting_Library\\B_Setup\\B_1_Ledger_Setup\\\n",
      "account config file generated successfully\n"
     ]
    }
   ],
   "source": [
    "# from A_Rule_Engine.A_1_Ledger_Library import AccountConfiguration\n",
    "from A_Rule_Engine.A_2_Purchase_Journal_Entry import JournalEntryProcessor\n",
    "import pandas as pd\n"
   ]
  },
  {
   "cell_type": "markdown",
   "id": "d897bcaa-dd70-486f-ba1c-88526148daf4",
   "metadata": {},
   "source": [
    "entry_df: Reads the common purchase template file located at the specified path into a pandas DataFrame. This  contains purchase journal \n",
    "entry data.\n",
    "\n",
    "config_df: Reads the output ledger library file located at the specified path into a pandas DataFrame. This  contains ledger configurations."
   ]
  },
  {
   "cell_type": "code",
   "execution_count": 5,
   "id": "99bcefa7-8f35-43c8-ba89-c10f0ed05aa9",
   "metadata": {},
   "outputs": [],
   "source": [
    "entry_df = pd.read_excel(path+'\\E_Process_2_Accounting\\E_Step_1_Common_Template\\Purchase_Common_Template.xlsx',engine='openpyxl')\n",
    "config_df = pd.read_excel(path+'\\B_Setup\\B_1_Ledger_Setup\\Output_Ledger_Library.xlsx',engine='openpyxl')\n",
    "\n"
   ]
  },
  {
   "cell_type": "markdown",
   "id": "6bc40422-5f55-419d-8fdc-75e9034c2f50",
   "metadata": {},
   "source": [
    "Initializes a dictionary k to store processed journal entry data."
   ]
  },
  {
   "cell_type": "code",
   "execution_count": 6,
   "id": "6ae997f6-23d7-4cfe-a396-22be516ab87a",
   "metadata": {},
   "outputs": [],
   "source": [
    "k  = {\n",
    "    'J1 - Journal Number':[],\n",
    "    'J2 - Date' :  [],\n",
    "    'J3 - Invoice_Ref_Number' : [],\n",
    "    'J4 - Ledger_Name' : [],\n",
    "    'J6 - Dr Amount' : [],\n",
    "    'J7 - Cr Amount' : [],\n",
    "    'J9 - Description/Narration' : [],\n",
    "}\n"
   ]
  },
  {
   "cell_type": "markdown",
   "id": "c5f2574f-5963-42c0-a992-49c98f1c3bbf",
   "metadata": {},
   "source": [
    "Instantiates a JournalEntryProcessor object with the purchase entry data (entry_df) and ledger configurations (config_df)."
   ]
  },
  {
   "cell_type": "code",
   "execution_count": 7,
   "id": "0584d580-d56d-42d6-a30a-9e8693db62cb",
   "metadata": {},
   "outputs": [],
   "source": [
    "journal_entry = JournalEntryProcessor(entry_df,config_df)"
   ]
  },
  {
   "cell_type": "markdown",
   "id": "457d5e00-82bd-48e0-bda9-f316c93f0428",
   "metadata": {},
   "source": [
    "Calls the process_entries method of the JournalEntryProcessor object to process the entries and store the results in k."
   ]
  },
  {
   "cell_type": "code",
   "execution_count": null,
   "id": "fcf868d0-7965-4e21-8ca1-c7d023c67bf2",
   "metadata": {},
   "outputs": [
    {
     "name": "stdout",
     "output_type": "stream",
     "text": [
      "Entry Number - 0\n",
      "Ledger Name -  Laptop\n",
      "Ledger Name laptop already present\n",
      "Ledger Name -  tax igst 12%\n"
     ]
    },
    {
     "name": "stdin",
     "output_type": "stream",
     "text": [
      "Enter C3 (Account Name):  Taxes\n",
      "Enter C4 (Sub ledger):  gst\n"
     ]
    },
    {
     "name": "stdout",
     "output_type": "stream",
     "text": [
      "Ledger Name -  tax cgst 12%\n"
     ]
    },
    {
     "name": "stdin",
     "output_type": "stream",
     "text": [
      "Enter C3 (Account Name):  Taxes\n",
      "Enter C4 (Sub ledger):  gst\n"
     ]
    },
    {
     "name": "stdout",
     "output_type": "stream",
     "text": [
      "Ledger Name -  Amazon\n"
     ]
    },
    {
     "name": "stdin",
     "output_type": "stream",
     "text": [
      "Enter C3 (Account Name):  AccountsReceivables\n",
      "Enter C4 (Sub ledger):  AccountsReceivables\n"
     ]
    },
    {
     "name": "stdout",
     "output_type": "stream",
     "text": [
      "Ledger Name -  Amazon\n",
      "Ledger Name amazon already present\n",
      "Ledger Name -  To Bank\n"
     ]
    },
    {
     "name": "stdin",
     "output_type": "stream",
     "text": [
      "Enter C3 (Account Name):  AccountsReceivables\n",
      "Enter C4 (Sub ledger):  AccountsReceivables\n"
     ]
    },
    {
     "name": "stdout",
     "output_type": "stream",
     "text": [
      "==========================================================================\n",
      "\n",
      "Entry Number - 1\n",
      "Ledger Name -  Keyboard\n"
     ]
    },
    {
     "name": "stdin",
     "output_type": "stream",
     "text": [
      "Enter C3 (Account Name):  AccountsReceivables\n",
      "Enter C4 (Sub ledger):  AccountsReceivables\n"
     ]
    },
    {
     "name": "stdout",
     "output_type": "stream",
     "text": [
      "Ledger Name -  tax igst 5%\n"
     ]
    },
    {
     "name": "stdin",
     "output_type": "stream",
     "text": [
      "Enter C3 (Account Name):  Taxes\n",
      "Enter C4 (Sub ledger):  gst\n"
     ]
    },
    {
     "name": "stdout",
     "output_type": "stream",
     "text": [
      "Ledger Name -  tax cgst 5%\n"
     ]
    }
   ],
   "source": [
    "journal_entry.process_entries(k)\n"
   ]
  },
  {
   "cell_type": "code",
   "execution_count": 10,
   "id": "2120c157-1d01-4f12-8fb5-2caad56f3410",
   "metadata": {},
   "outputs": [
    {
     "data": {
      "text/html": [
       "<div>\n",
       "<style scoped>\n",
       "    .dataframe tbody tr th:only-of-type {\n",
       "        vertical-align: middle;\n",
       "    }\n",
       "\n",
       "    .dataframe tbody tr th {\n",
       "        vertical-align: top;\n",
       "    }\n",
       "\n",
       "    .dataframe thead th {\n",
       "        text-align: right;\n",
       "    }\n",
       "</style>\n",
       "<table border=\"1\" class=\"dataframe\">\n",
       "  <thead>\n",
       "    <tr style=\"text-align: right;\">\n",
       "      <th></th>\n",
       "      <th>J1 - Journal Number</th>\n",
       "      <th>J2 - Date</th>\n",
       "      <th>J3 - Invoice_Ref_Number</th>\n",
       "      <th>J4 - Ledger_Name</th>\n",
       "      <th>J6 - Dr Amount</th>\n",
       "      <th>J7 - Cr Amount</th>\n",
       "      <th>J9 - Description/Narration</th>\n",
       "    </tr>\n",
       "  </thead>\n",
       "  <tbody>\n",
       "    <tr>\n",
       "      <th>0</th>\n",
       "      <td>P001</td>\n",
       "      <td>2024-01-15</td>\n",
       "      <td>AF2223-026868</td>\n",
       "      <td>Laptop</td>\n",
       "      <td>10000</td>\n",
       "      <td>0</td>\n",
       "      <td>purchase</td>\n",
       "    </tr>\n",
       "    <tr>\n",
       "      <th>1</th>\n",
       "      <td>P001</td>\n",
       "      <td>2024-01-15</td>\n",
       "      <td>AF2223-026868</td>\n",
       "      <td>tax igst 12%</td>\n",
       "      <td>600</td>\n",
       "      <td>0</td>\n",
       "      <td>purchase</td>\n",
       "    </tr>\n",
       "    <tr>\n",
       "      <th>2</th>\n",
       "      <td>P001</td>\n",
       "      <td>2024-01-15</td>\n",
       "      <td>AF2223-026868</td>\n",
       "      <td>tax cgst 12%</td>\n",
       "      <td>600</td>\n",
       "      <td>0</td>\n",
       "      <td>purchase</td>\n",
       "    </tr>\n",
       "    <tr>\n",
       "      <th>3</th>\n",
       "      <td>P001</td>\n",
       "      <td>2024-01-15</td>\n",
       "      <td>AF2223-026868</td>\n",
       "      <td>Amazon</td>\n",
       "      <td>0</td>\n",
       "      <td>11200</td>\n",
       "      <td>purchase</td>\n",
       "    </tr>\n",
       "    <tr>\n",
       "      <th>4</th>\n",
       "      <td>P0000</td>\n",
       "      <td>2024-01-15</td>\n",
       "      <td>AF2223-026868</td>\n",
       "      <td>Amazon</td>\n",
       "      <td>11200</td>\n",
       "      <td>0</td>\n",
       "      <td>purchase</td>\n",
       "    </tr>\n",
       "    <tr>\n",
       "      <th>...</th>\n",
       "      <td>...</td>\n",
       "      <td>...</td>\n",
       "      <td>...</td>\n",
       "      <td>...</td>\n",
       "      <td>...</td>\n",
       "      <td>...</td>\n",
       "      <td>...</td>\n",
       "    </tr>\n",
       "    <tr>\n",
       "      <th>133</th>\n",
       "      <td>P0018</td>\n",
       "      <td>2024-02-18</td>\n",
       "      <td>AF2223-026885</td>\n",
       "      <td>tax igst 10%</td>\n",
       "      <td>10000</td>\n",
       "      <td>0</td>\n",
       "      <td>purchase</td>\n",
       "    </tr>\n",
       "    <tr>\n",
       "      <th>134</th>\n",
       "      <td>P0018</td>\n",
       "      <td>2024-02-18</td>\n",
       "      <td>AF2223-026885</td>\n",
       "      <td>tax cgst 10%</td>\n",
       "      <td>10000</td>\n",
       "      <td>0</td>\n",
       "      <td>purchase</td>\n",
       "    </tr>\n",
       "    <tr>\n",
       "      <th>135</th>\n",
       "      <td>P0018</td>\n",
       "      <td>2024-02-18</td>\n",
       "      <td>AF2223-026885</td>\n",
       "      <td>Best Buy</td>\n",
       "      <td>0</td>\n",
       "      <td>110000</td>\n",
       "      <td>purchase</td>\n",
       "    </tr>\n",
       "    <tr>\n",
       "      <th>136</th>\n",
       "      <td>P001717</td>\n",
       "      <td>2024-02-18</td>\n",
       "      <td>AF2223-026885</td>\n",
       "      <td>Best Buy</td>\n",
       "      <td>110000</td>\n",
       "      <td>0</td>\n",
       "      <td>purchase</td>\n",
       "    </tr>\n",
       "    <tr>\n",
       "      <th>137</th>\n",
       "      <td>P001818</td>\n",
       "      <td>2024-02-18</td>\n",
       "      <td>AF2223-026885</td>\n",
       "      <td>To Bank</td>\n",
       "      <td>0</td>\n",
       "      <td>110000</td>\n",
       "      <td>purchase</td>\n",
       "    </tr>\n",
       "  </tbody>\n",
       "</table>\n",
       "<p>138 rows × 7 columns</p>\n",
       "</div>"
      ],
      "text/plain": [
       "    J1 - Journal Number  J2 - Date J3 - Invoice_Ref_Number J4 - Ledger_Name  \\\n",
       "0                  P001 2024-01-15           AF2223-026868           Laptop   \n",
       "1                  P001 2024-01-15           AF2223-026868     tax igst 12%   \n",
       "2                  P001 2024-01-15           AF2223-026868     tax cgst 12%   \n",
       "3                  P001 2024-01-15           AF2223-026868           Amazon   \n",
       "4                 P0000 2024-01-15           AF2223-026868           Amazon   \n",
       "..                  ...        ...                     ...              ...   \n",
       "133               P0018 2024-02-18           AF2223-026885     tax igst 10%   \n",
       "134               P0018 2024-02-18           AF2223-026885     tax cgst 10%   \n",
       "135               P0018 2024-02-18           AF2223-026885         Best Buy   \n",
       "136             P001717 2024-02-18           AF2223-026885         Best Buy   \n",
       "137             P001818 2024-02-18           AF2223-026885          To Bank   \n",
       "\n",
       "     J6 - Dr Amount  J7 - Cr Amount J9 - Description/Narration  \n",
       "0             10000               0                   purchase  \n",
       "1               600               0                   purchase  \n",
       "2               600               0                   purchase  \n",
       "3                 0           11200                   purchase  \n",
       "4             11200               0                   purchase  \n",
       "..              ...             ...                        ...  \n",
       "133           10000               0                   purchase  \n",
       "134           10000               0                   purchase  \n",
       "135               0          110000                   purchase  \n",
       "136          110000               0                   purchase  \n",
       "137               0          110000                   purchase  \n",
       "\n",
       "[138 rows x 7 columns]"
      ]
     },
     "execution_count": 10,
     "metadata": {},
     "output_type": "execute_result"
    }
   ],
   "source": [
    "df = pd.DataFrame(k)\n",
    "df"
   ]
  },
  {
   "cell_type": "markdown",
   "id": "93c2ae02-8b6f-4965-8851-7435bdf32f01",
   "metadata": {},
   "source": [
    "Specifies the file save path for the output file.\n",
    "    \n",
    "Saves the processed data DataFrame to an Excel file named "
   ]
  },
  {
   "cell_type": "code",
   "execution_count": 11,
   "id": "489703da-36a0-42d3-ac8c-a21a95787ccb",
   "metadata": {},
   "outputs": [],
   "source": [
    "file_save_path = 'C:\\\\Users\\\\user\\\\Downloads\\\\Convert_pdf_file_into_the_excel_file\\\\Rule_Setup\\\\Accounting_Library\\\\E_Process_2_Accounting\\\\E_Step_2_Journal_Entry\\\\'\n",
    "df.to_excel(file_save_path+'Purchase_Journal_Entry_Output.xlsx')\n",
    "\n"
   ]
  },
  {
   "cell_type": "code",
   "execution_count": null,
   "id": "ee55bb3b-a790-45a1-88e0-aec786595651",
   "metadata": {},
   "outputs": [],
   "source": []
  }
 ],
 "metadata": {
  "kernelspec": {
   "display_name": "Python 3 (ipykernel)",
   "language": "python",
   "name": "python3"
  },
  "language_info": {
   "codemirror_mode": {
    "name": "ipython",
    "version": 3
   },
   "file_extension": ".py",
   "mimetype": "text/x-python",
   "name": "python",
   "nbconvert_exporter": "python",
   "pygments_lexer": "ipython3",
   "version": "3.9.0"
  }
 },
 "nbformat": 4,
 "nbformat_minor": 5
}
