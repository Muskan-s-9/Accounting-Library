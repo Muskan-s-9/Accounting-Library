{
 "cells": [
  {
   "cell_type": "code",
   "execution_count": 82,
   "id": "be67e504-447b-4d26-9a1a-8ce9f162f07b",
   "metadata": {},
   "outputs": [],
   "source": [
    "import pandas as pd\n",
    "\n",
    "path1 = '~//Downloads//Convert_pdf_file_into_the_excel_file//Rule_Setup//Accounting_Library//B_Setup//B_1_Ledger_Setup//'\n",
    "main_df =  pd.read_excel(path1+ 'Output_Ledger_Library.xlsx',engine = 'openpyxl')\n",
    "\n",
    "path2 = '~//Downloads//Convert_pdf_file_into_the_excel_file//Rule_Setup//Accounting_Library//User_Ledger_Data//'\n",
    "user_data =  pd.read_excel(path2+ 'C1_to_C5_Data.xlsx',engine = 'openpyxl')\n",
    "\n",
    "# user_data\n",
    "\n",
    "\n",
    "\n",
    "\n",
    "for i in range(len(user_data)):\n",
    "    C5 = user_data['C5'].iloc[i]\n",
    "    if C5.lower() not in list(main_df['C5']) :\n",
    "        c1 =  user_data.loc[user_data['C5'] == C5, 'C1'].iloc[0]\n",
    "        c2 =  user_data.loc[user_data['C5'] == C5, 'C2'].iloc[0]\n",
    "        c3 =  user_data.loc[user_data['C5'] == C5, 'C3'].iloc[0]\n",
    "        c4 =  user_data.loc[user_data['C5'] == C5, 'C4'].iloc[0]\n",
    "        g_code =main_df[main_df['C3'] == c3]['G_CODE'].iloc[0]\n",
    "\n",
    "        new_data = {'C1': c1, 'C2': c2, 'C3': c3, 'C4': c4, 'C5': C5.lower(), 'G_CODE': g_code}\n",
    "\n",
    "        main_df = pd.concat([main_df, pd.DataFrame([new_data])], ignore_index=True)\n",
    "main_df.to_excel(path+'Output_Ledger_Library.xlsx',index = False)\n"
   ]
  },
  {
   "cell_type": "code",
   "execution_count": 79,
   "id": "9a6bbeb9-5c19-4569-ab23-dfc692c96ee6",
   "metadata": {},
   "outputs": [
    {
     "data": {
      "text/plain": [
       "True"
      ]
     },
     "execution_count": 79,
     "metadata": {},
     "output_type": "execute_result"
    }
   ],
   "source": [
    "isinstance(main_df, pd.DataFrame)"
   ]
  },
  {
   "cell_type": "code",
   "execution_count": null,
   "id": "1b1ec784-c2a5-4b87-9887-b8aec5760d73",
   "metadata": {},
   "outputs": [],
   "source": []
  }
 ],
 "metadata": {
  "kernelspec": {
   "display_name": "Python 3 (ipykernel)",
   "language": "python",
   "name": "python3"
  },
  "language_info": {
   "codemirror_mode": {
    "name": "ipython",
    "version": 3
   },
   "file_extension": ".py",
   "mimetype": "text/x-python",
   "name": "python",
   "nbconvert_exporter": "python",
   "pygments_lexer": "ipython3",
   "version": "3.9.0"
  }
 },
 "nbformat": 4,
 "nbformat_minor": 5
}
