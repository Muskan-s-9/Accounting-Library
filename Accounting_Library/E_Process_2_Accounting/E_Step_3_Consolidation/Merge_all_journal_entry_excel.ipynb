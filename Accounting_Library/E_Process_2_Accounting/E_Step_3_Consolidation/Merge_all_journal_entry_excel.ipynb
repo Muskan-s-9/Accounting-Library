{
 "cells": [
  {
   "cell_type": "code",
   "execution_count": 29,
   "id": "20286a97-5cf3-4806-b304-7a0db7cc5b74",
   "metadata": {},
   "outputs": [],
   "source": [
    "import pandas as pd\n",
    "import os"
   ]
  },
  {
   "cell_type": "code",
   "execution_count": 30,
   "id": "e0d6a91e-4879-4e77-9429-9349b2483a49",
   "metadata": {},
   "outputs": [],
   "source": [
    "path = \"C:\\\\Users\\\\user\\\\Downloads\\\\Convert_pdf_file_into_the_excel_file\\\\Rule_Setup\\\\Accounting_Library\\\\E_Process_2_Accounting\\\\E_Step_2_Journal_Entry\\\\\""
   ]
  },
  {
   "cell_type": "code",
   "execution_count": 34,
   "id": "15707e05-69a7-482b-9d1b-a9a57a8a8f72",
   "metadata": {},
   "outputs": [],
   "source": [
    "ls = os.listdir(path)\n",
    "\n",
    "dfs = []\n",
    "for i in ls:\n",
    "    df_path = pd.read_excel(path+i,engine = \"openpyxl\")\n",
    "    dfs.append(df_path)\n",
    "    \n",
    "concatenated_df = pd.concat(dfs, ignore_index=True)\n",
    "concatenated_df.drop(columns='Unnamed: 0',inplace = True)"
   ]
  },
  {
   "cell_type": "code",
   "execution_count": 38,
   "id": "35b92ecb-5ec9-4258-be9c-f7b1dfb202c9",
   "metadata": {},
   "outputs": [],
   "source": [
    "concatenated_df.to_excel('Merge.xlsx',index = 'False')"
   ]
  },
  {
   "cell_type": "code",
   "execution_count": null,
   "id": "2bc85759-1962-4cde-8299-74743550814e",
   "metadata": {},
   "outputs": [],
   "source": []
  }
 ],
 "metadata": {
  "kernelspec": {
   "display_name": "Python 3 (ipykernel)",
   "language": "python",
   "name": "python3"
  },
  "language_info": {
   "codemirror_mode": {
    "name": "ipython",
    "version": 3
   },
   "file_extension": ".py",
   "mimetype": "text/x-python",
   "name": "python",
   "nbconvert_exporter": "python",
   "pygments_lexer": "ipython3",
   "version": "3.9.0"
  }
 },
 "nbformat": 4,
 "nbformat_minor": 5
}
