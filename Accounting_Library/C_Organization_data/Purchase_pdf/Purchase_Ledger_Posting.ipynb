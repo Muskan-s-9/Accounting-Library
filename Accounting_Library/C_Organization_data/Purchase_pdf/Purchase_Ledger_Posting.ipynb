{
 "cells": [
  {
   "cell_type": "code",
   "execution_count": 1,
   "id": "a88a3c86-e664-4905-86de-143cb0ccdf49",
   "metadata": {},
   "outputs": [],
   "source": [
    "from Accountant import AccountConfiguration\n",
    "from Journal_Entry import JournalEntryProcessor\n",
    "import pandas as pd"
   ]
  },
  {
   "cell_type": "code",
   "execution_count": 2,
   "id": "ffbd56d2-901e-490b-ac9d-c3bde2b1110b",
   "metadata": {},
   "outputs": [],
   "source": [
    "entry_df = pd.read_excel('p_3.xlsx',engine='openpyxl')\n",
    "config_df = pd.read_excel('main_df_p.xlsx',engine='openpyxl')"
   ]
  },
  {
   "cell_type": "code",
   "execution_count": 3,
   "id": "284c8cf8-6d8a-44c6-b43b-185473107a2d",
   "metadata": {},
   "outputs": [],
   "source": [
    "k  = {\n",
    "    'J1 - Journal Number':[],\n",
    "    'J2 - Date' :  [],\n",
    "    'J3 - Invoice_Ref_Number' : [],\n",
    "    'J4 - Ledger_Name' : [],\n",
    "    'J5 - Opening Balance' :[],\n",
    "    'J6 - Dr Amount' : [],\n",
    "    'J7 - Cr Amount' : [],\n",
    "    'J8 - Closing Balance' : [],\n",
    "    'J9 - Description/Narration' : [],\n",
    "}\n"
   ]
  },
  {
   "cell_type": "code",
   "execution_count": 4,
   "id": "e4b2fa44-f594-4b60-a2e9-0911e2766aae",
   "metadata": {},
   "outputs": [],
   "source": [
    "journal_entry = JournalEntryProcessor(entry_df,config_df)\n"
   ]
  },
  {
   "cell_type": "code",
   "execution_count": 5,
   "id": "6b109c88-13cd-4aa3-b2e9-4d1ef995b129",
   "metadata": {},
   "outputs": [
    {
     "name": "stdout",
     "output_type": "stream",
     "text": [
      "Entry Number - 0\n",
      "Ledger Name -  Laptop\n",
      "Ledger Name laptop already present\n",
      "Ledger Name -  tax igst 12%\n",
      "Ledger Name tax igst 12% already present\n",
      "Ledger Name -  tax cgst 12%\n",
      "Ledger Name tax cgst 12% already present\n",
      "Ledger Name -  To Amazon\n",
      "Ledger Name to amazon already present\n",
      "Ledger Name -  Amazon\n"
     ]
    },
    {
     "name": "stdin",
     "output_type": "stream",
     "text": [
      "Enter C3 (Account Name):  AccountsReceivables\n",
      "Enter C4 (Sub ledger):  AccountsReceivables\n"
     ]
    },
    {
     "name": "stdout",
     "output_type": "stream",
     "text": [
      "Ledger Name -  To Bank\n"
     ]
    },
    {
     "name": "stdin",
     "output_type": "stream",
     "text": [
      "Enter C3 (Account Name):  AccountsReceivables\n",
      "Enter C4 (Sub ledger):  AccountsReceivables\n"
     ]
    },
    {
     "name": "stdout",
     "output_type": "stream",
     "text": [
      "==========================================================================\n",
      "\n",
      "Entry Number - 1\n",
      "Ledger Name -  Keyboard\n"
     ]
    },
    {
     "name": "stdin",
     "output_type": "stream",
     "text": [
      "Enter C3 (Account Name):  AccountsReceivables\n",
      "Enter C4 (Sub ledger):  AccountsReceivables\n"
     ]
    },
    {
     "name": "stdout",
     "output_type": "stream",
     "text": [
      "Ledger Name -  tax igst 5%\n"
     ]
    },
    {
     "name": "stdin",
     "output_type": "stream",
     "text": [
      "Enter C3 (Account Name):  Taxes\n",
      "Enter C4 (Sub ledger):  gst\n"
     ]
    },
    {
     "name": "stdout",
     "output_type": "stream",
     "text": [
      "Ledger Name -  tax cgst 5%\n"
     ]
    },
    {
     "name": "stdin",
     "output_type": "stream",
     "text": [
      "Enter C3 (Account Name):  Taxes\n",
      "Enter C4 (Sub ledger):  gst\n"
     ]
    },
    {
     "name": "stdout",
     "output_type": "stream",
     "text": [
      "Ledger Name -  To Flipkart\n"
     ]
    },
    {
     "name": "stdin",
     "output_type": "stream",
     "text": [
      "Enter C3 (Account Name):  AccountsReceivables\n",
      "Enter C4 (Sub ledger):  AccountsReceivables\n"
     ]
    },
    {
     "name": "stdout",
     "output_type": "stream",
     "text": [
      "Ledger Name -  Flipkart\n"
     ]
    },
    {
     "name": "stdin",
     "output_type": "stream",
     "text": [
      "Enter C3 (Account Name):  AccountsReceivables\n",
      "Enter C4 (Sub ledger):  AccountsReceivables\n"
     ]
    },
    {
     "name": "stdout",
     "output_type": "stream",
     "text": [
      "Ledger Name -  To Bank\n",
      "Ledger Name to bank already present\n",
      "==========================================================================\n",
      "\n",
      "Entry Number - 2\n",
      "Ledger Name -  Oxometer\n"
     ]
    },
    {
     "name": "stdin",
     "output_type": "stream",
     "text": [
      "Enter C3 (Account Name):  AccountsReceivables\n",
      "Enter C4 (Sub ledger):  AccountsReceivables\n"
     ]
    },
    {
     "name": "stdout",
     "output_type": "stream",
     "text": [
      "Ledger Name -  tax igst 28%\n"
     ]
    },
    {
     "name": "stdin",
     "output_type": "stream",
     "text": [
      "Enter C3 (Account Name):  Taxes\n",
      "Enter C4 (Sub ledger):  Taxes\n"
     ]
    },
    {
     "name": "stdout",
     "output_type": "stream",
     "text": [
      "Ledger Name -  tax cgst 28%\n"
     ]
    },
    {
     "name": "stdin",
     "output_type": "stream",
     "text": [
      "Enter C3 (Account Name):  AccountsReceivables\n",
      "Enter C4 (Sub ledger):  AccountsReceivables\n"
     ]
    },
    {
     "name": "stdout",
     "output_type": "stream",
     "text": [
      "Ledger Name -  To One Mg\n"
     ]
    },
    {
     "name": "stdin",
     "output_type": "stream",
     "text": [
      "Enter C3 (Account Name):  AccountsReceivables\n",
      "Enter C4 (Sub ledger):  AccountsReceivables\n"
     ]
    },
    {
     "name": "stdout",
     "output_type": "stream",
     "text": [
      "Ledger Name -  One Mg\n"
     ]
    },
    {
     "name": "stdin",
     "output_type": "stream",
     "text": [
      "Enter C3 (Account Name):  AccountsReceivables\n",
      "Enter C4 (Sub ledger):  AccountsReceivables\n"
     ]
    },
    {
     "name": "stdout",
     "output_type": "stream",
     "text": [
      "Ledger Name -  To Bank\n",
      "Ledger Name to bank already present\n",
      "==========================================================================\n",
      "\n",
      "Entry Number - 3\n",
      "Ledger Name -  Cooler\n"
     ]
    },
    {
     "name": "stdin",
     "output_type": "stream",
     "text": [
      "Enter C3 (Account Name):  AccountsReceivables\n",
      "Enter C4 (Sub ledger):  AccountsReceivables\n"
     ]
    },
    {
     "name": "stdout",
     "output_type": "stream",
     "text": [
      "Ledger Name -  tax igst 12%\n",
      "Ledger Name tax igst 12% already present\n",
      "Ledger Name -  tax cgst 12%\n",
      "Ledger Name tax cgst 12% already present\n",
      "Ledger Name -  To Reliance digital\n"
     ]
    },
    {
     "name": "stdin",
     "output_type": "stream",
     "text": [
      "Enter C3 (Account Name):  AccountsReceivables\n",
      "Enter C4 (Sub ledger):  AccountsReceivables\n"
     ]
    },
    {
     "name": "stdout",
     "output_type": "stream",
     "text": [
      "Ledger Name -  Reliance digital\n"
     ]
    },
    {
     "name": "stdin",
     "output_type": "stream",
     "text": [
      "Enter C3 (Account Name):  AccountsReceivables\n",
      "Enter C4 (Sub ledger):  AccountsReceivables\n"
     ]
    },
    {
     "name": "stdout",
     "output_type": "stream",
     "text": [
      "Ledger Name -  To Bank\n",
      "Ledger Name to bank already present\n",
      "==========================================================================\n",
      "\n",
      "Entry Number - 4\n",
      "Ledger Name -  AC\n"
     ]
    },
    {
     "name": "stdin",
     "output_type": "stream",
     "text": [
      "Enter C3 (Account Name):  AccountsReceivables\n",
      "Enter C4 (Sub ledger):  AccountsReceivables\n"
     ]
    },
    {
     "name": "stdout",
     "output_type": "stream",
     "text": [
      "Ledger Name -  tax igst 28%\n",
      "Ledger Name tax igst 28% already present\n",
      "Ledger Name -  tax cgst 28%\n",
      "Ledger Name tax cgst 28% already present\n",
      "Ledger Name -  To Croma\n"
     ]
    },
    {
     "name": "stdin",
     "output_type": "stream",
     "text": [
      "Enter C3 (Account Name):  AccountsReceivables\n",
      "Enter C4 (Sub ledger):  AccountsReceivables\n"
     ]
    },
    {
     "name": "stdout",
     "output_type": "stream",
     "text": [
      "Ledger Name -  Croma\n"
     ]
    },
    {
     "name": "stdin",
     "output_type": "stream",
     "text": [
      "Enter C3 (Account Name):  AccountsReceivables\n",
      "Enter C4 (Sub ledger):  AccountsReceivables\n"
     ]
    },
    {
     "name": "stdout",
     "output_type": "stream",
     "text": [
      "Ledger Name -  To Bank\n",
      "Ledger Name to bank already present\n",
      "==========================================================================\n",
      "\n",
      "Entry Number - 5\n",
      "Ledger Name -  FAn\n"
     ]
    },
    {
     "name": "stdin",
     "output_type": "stream",
     "text": [
      "Enter C3 (Account Name):  AccountsReceivables\n",
      "Enter C4 (Sub ledger):  AccountsReceivables\n"
     ]
    },
    {
     "name": "stdout",
     "output_type": "stream",
     "text": [
      "Ledger Name -  tax igst 12%\n",
      "Ledger Name tax igst 12% already present\n",
      "Ledger Name -  tax cgst 12%\n",
      "Ledger Name tax cgst 12% already present\n",
      "Ledger Name -  To Usha\n"
     ]
    },
    {
     "name": "stdin",
     "output_type": "stream",
     "text": [
      "Enter C3 (Account Name):  AccountsReceivables\n",
      "Enter C4 (Sub ledger):  AccountsReceivables\n"
     ]
    },
    {
     "name": "stdout",
     "output_type": "stream",
     "text": [
      "Ledger Name -  Usha\n"
     ]
    },
    {
     "name": "stdin",
     "output_type": "stream",
     "text": [
      "Enter C3 (Account Name):  AccountsReceivables\n",
      "Enter C4 (Sub ledger):  AccountsReceivables\n"
     ]
    },
    {
     "name": "stdout",
     "output_type": "stream",
     "text": [
      "Ledger Name -  To Bank\n",
      "Ledger Name to bank already present\n",
      "==========================================================================\n",
      "\n",
      "Entry Number - 6\n",
      "Ledger Name -  Fridge\n"
     ]
    },
    {
     "name": "stdin",
     "output_type": "stream",
     "text": [
      "Enter C3 (Account Name):  AccountsReceivables\n",
      "Enter C4 (Sub ledger):  AccountsReceivables\n"
     ]
    },
    {
     "name": "stdout",
     "output_type": "stream",
     "text": [
      "Ledger Name -  tax igst 12%\n",
      "Ledger Name tax igst 12% already present\n",
      "Ledger Name -  tax cgst 12%\n",
      "Ledger Name tax cgst 12% already present\n",
      "Ledger Name -  To Whirlpool\n"
     ]
    },
    {
     "name": "stdin",
     "output_type": "stream",
     "text": [
      "Enter C3 (Account Name):  AccountsReceivables\n",
      "Enter C4 (Sub ledger):  AccountsReceivables\n"
     ]
    },
    {
     "name": "stdout",
     "output_type": "stream",
     "text": [
      "Ledger Name -  Whirlpool\n"
     ]
    },
    {
     "name": "stdin",
     "output_type": "stream",
     "text": [
      "Enter C3 (Account Name):  AccountsReceivables\n",
      "Enter C4 (Sub ledger):  AccountsReceivables\n"
     ]
    },
    {
     "name": "stdout",
     "output_type": "stream",
     "text": [
      "Ledger Name -  To Bank\n",
      "Ledger Name to bank already present\n",
      "==========================================================================\n",
      "\n",
      "Entry Number - 7\n",
      "Ledger Name -  TV\n"
     ]
    },
    {
     "name": "stdin",
     "output_type": "stream",
     "text": [
      "Enter C3 (Account Name):  AccountsReceivables\n",
      "Enter C4 (Sub ledger):  AccountsReceivables\n"
     ]
    },
    {
     "name": "stdout",
     "output_type": "stream",
     "text": [
      "Ledger Name -  tax igst 18%\n"
     ]
    },
    {
     "name": "stdin",
     "output_type": "stream",
     "text": [
      "Enter C3 (Account Name):  Taxes\n",
      "Enter C4 (Sub ledger):  Taxes\n"
     ]
    },
    {
     "name": "stdout",
     "output_type": "stream",
     "text": [
      "Ledger Name -  tax cgst 18%\n"
     ]
    },
    {
     "name": "stdin",
     "output_type": "stream",
     "text": [
      "Enter C3 (Account Name):  AccountsReceivables\n",
      "Enter C4 (Sub ledger):  AccountsReceivables\n"
     ]
    },
    {
     "name": "stdout",
     "output_type": "stream",
     "text": [
      "Ledger Name -  To LG\n"
     ]
    },
    {
     "name": "stdin",
     "output_type": "stream",
     "text": [
      "Enter C3 (Account Name):  AccountsReceivables\n",
      "Enter C4 (Sub ledger):  AccountsReceivables\n"
     ]
    },
    {
     "name": "stdout",
     "output_type": "stream",
     "text": [
      "Ledger Name -  LG\n"
     ]
    },
    {
     "name": "stdin",
     "output_type": "stream",
     "text": [
      "Enter C3 (Account Name):  AccountsReceivables\n",
      "Enter C4 (Sub ledger):  AccountsReceivables\n"
     ]
    },
    {
     "name": "stdout",
     "output_type": "stream",
     "text": [
      "Ledger Name -  To Bank\n",
      "Ledger Name to bank already present\n",
      "==========================================================================\n",
      "\n",
      "Entry Number - 8\n",
      "Ledger Name -  Music System\n"
     ]
    },
    {
     "name": "stdin",
     "output_type": "stream",
     "text": [
      "Enter C3 (Account Name):  AccountsReceivables\n",
      "Enter C4 (Sub ledger):  AccountsReceivables\n"
     ]
    },
    {
     "name": "stdout",
     "output_type": "stream",
     "text": [
      "Ledger Name -  tax igst 18%\n",
      "Ledger Name tax igst 18% already present\n",
      "Ledger Name -  tax cgst 18%\n",
      "Ledger Name tax cgst 18% already present\n",
      "Ledger Name -  To Sony\n"
     ]
    },
    {
     "name": "stdin",
     "output_type": "stream",
     "text": [
      "Enter C3 (Account Name):  AccountsReceivables\n",
      "Enter C4 (Sub ledger):  AccountsReceivables\n"
     ]
    },
    {
     "name": "stdout",
     "output_type": "stream",
     "text": [
      "Ledger Name -  Sony\n"
     ]
    },
    {
     "name": "stdin",
     "output_type": "stream",
     "text": [
      "Enter C3 (Account Name):  AccountsReceivables\n",
      "Enter C4 (Sub ledger):  AccountsReceivables\n"
     ]
    },
    {
     "name": "stdout",
     "output_type": "stream",
     "text": [
      "Ledger Name -  To Bank\n",
      "Ledger Name to bank already present\n",
      "==========================================================================\n",
      "\n"
     ]
    }
   ],
   "source": [
    "journal_entry.process_entries(k)\n"
   ]
  },
  {
   "cell_type": "code",
   "execution_count": 7,
   "id": "e5b3e9e1-4884-44d2-8a2d-4d6cc4dc4d05",
   "metadata": {},
   "outputs": [
    {
     "data": {
      "text/html": [
       "<div>\n",
       "<style scoped>\n",
       "    .dataframe tbody tr th:only-of-type {\n",
       "        vertical-align: middle;\n",
       "    }\n",
       "\n",
       "    .dataframe tbody tr th {\n",
       "        vertical-align: top;\n",
       "    }\n",
       "\n",
       "    .dataframe thead th {\n",
       "        text-align: right;\n",
       "    }\n",
       "</style>\n",
       "<table border=\"1\" class=\"dataframe\">\n",
       "  <thead>\n",
       "    <tr style=\"text-align: right;\">\n",
       "      <th></th>\n",
       "      <th>J1 - Journal Number</th>\n",
       "      <th>J2 - Date</th>\n",
       "      <th>J3 - Invoice_Ref_Number</th>\n",
       "      <th>J4 - Ledger_Name</th>\n",
       "      <th>J5 - Opening Balance</th>\n",
       "      <th>J6 - Dr Amount</th>\n",
       "      <th>J7 - Cr Amount</th>\n",
       "      <th>J8 - Closing Balance</th>\n",
       "      <th>J9 - Description/Narration</th>\n",
       "    </tr>\n",
       "  </thead>\n",
       "  <tbody>\n",
       "    <tr>\n",
       "      <th>0</th>\n",
       "      <td>P000</td>\n",
       "      <td>2024-01-15</td>\n",
       "      <td>AF2223-026868</td>\n",
       "      <td>Laptop</td>\n",
       "      <td>0</td>\n",
       "      <td>10000</td>\n",
       "      <td>0</td>\n",
       "      <td>10000</td>\n",
       "      <td>purchase</td>\n",
       "    </tr>\n",
       "    <tr>\n",
       "      <th>1</th>\n",
       "      <td>P000</td>\n",
       "      <td>2024-01-15</td>\n",
       "      <td>AF2223-026868</td>\n",
       "      <td>tax igst 12%</td>\n",
       "      <td>0</td>\n",
       "      <td>600</td>\n",
       "      <td>0</td>\n",
       "      <td>600</td>\n",
       "      <td>purchase</td>\n",
       "    </tr>\n",
       "    <tr>\n",
       "      <th>2</th>\n",
       "      <td>P000</td>\n",
       "      <td>2024-01-15</td>\n",
       "      <td>AF2223-026868</td>\n",
       "      <td>tax cgst 12%</td>\n",
       "      <td>0</td>\n",
       "      <td>600</td>\n",
       "      <td>0</td>\n",
       "      <td>600</td>\n",
       "      <td>purchase</td>\n",
       "    </tr>\n",
       "    <tr>\n",
       "      <th>3</th>\n",
       "      <td>P000</td>\n",
       "      <td>2024-01-15</td>\n",
       "      <td>AF2223-026868</td>\n",
       "      <td>To Amazon</td>\n",
       "      <td>0</td>\n",
       "      <td>0</td>\n",
       "      <td>11200</td>\n",
       "      <td>11200</td>\n",
       "      <td>purchase</td>\n",
       "    </tr>\n",
       "    <tr>\n",
       "      <th>4</th>\n",
       "      <td>P0000</td>\n",
       "      <td>2024-01-15</td>\n",
       "      <td>AF2223-026868</td>\n",
       "      <td>Amazon</td>\n",
       "      <td>0</td>\n",
       "      <td>11200</td>\n",
       "      <td>0</td>\n",
       "      <td>11200</td>\n",
       "      <td>purchase</td>\n",
       "    </tr>\n",
       "    <tr>\n",
       "      <th>5</th>\n",
       "      <td>P0000</td>\n",
       "      <td>2024-01-15</td>\n",
       "      <td>AF2223-026868</td>\n",
       "      <td>To Bank</td>\n",
       "      <td>0</td>\n",
       "      <td>0</td>\n",
       "      <td>11200</td>\n",
       "      <td>11200</td>\n",
       "      <td>purchase</td>\n",
       "    </tr>\n",
       "    <tr>\n",
       "      <th>6</th>\n",
       "      <td>P001</td>\n",
       "      <td>2024-01-17</td>\n",
       "      <td>AF2223-026869</td>\n",
       "      <td>Keyboard</td>\n",
       "      <td>0</td>\n",
       "      <td>15000</td>\n",
       "      <td>0</td>\n",
       "      <td>15000</td>\n",
       "      <td>purchase</td>\n",
       "    </tr>\n",
       "    <tr>\n",
       "      <th>7</th>\n",
       "      <td>P001</td>\n",
       "      <td>2024-01-17</td>\n",
       "      <td>AF2223-026869</td>\n",
       "      <td>tax igst 5%</td>\n",
       "      <td>0</td>\n",
       "      <td>375</td>\n",
       "      <td>0</td>\n",
       "      <td>375</td>\n",
       "      <td>purchase</td>\n",
       "    </tr>\n",
       "    <tr>\n",
       "      <th>8</th>\n",
       "      <td>P001</td>\n",
       "      <td>2024-01-17</td>\n",
       "      <td>AF2223-026869</td>\n",
       "      <td>tax cgst 5%</td>\n",
       "      <td>0</td>\n",
       "      <td>375</td>\n",
       "      <td>0</td>\n",
       "      <td>375</td>\n",
       "      <td>purchase</td>\n",
       "    </tr>\n",
       "    <tr>\n",
       "      <th>9</th>\n",
       "      <td>P001</td>\n",
       "      <td>2024-01-17</td>\n",
       "      <td>AF2223-026869</td>\n",
       "      <td>To Flipkart</td>\n",
       "      <td>0</td>\n",
       "      <td>0</td>\n",
       "      <td>15750</td>\n",
       "      <td>15750</td>\n",
       "      <td>purchase</td>\n",
       "    </tr>\n",
       "    <tr>\n",
       "      <th>10</th>\n",
       "      <td>P0011</td>\n",
       "      <td>2024-01-17</td>\n",
       "      <td>AF2223-026869</td>\n",
       "      <td>Flipkart</td>\n",
       "      <td>0</td>\n",
       "      <td>15750</td>\n",
       "      <td>0</td>\n",
       "      <td>15750</td>\n",
       "      <td>purchase</td>\n",
       "    </tr>\n",
       "    <tr>\n",
       "      <th>11</th>\n",
       "      <td>P0011</td>\n",
       "      <td>2024-01-17</td>\n",
       "      <td>AF2223-026869</td>\n",
       "      <td>To Bank</td>\n",
       "      <td>0</td>\n",
       "      <td>0</td>\n",
       "      <td>15750</td>\n",
       "      <td>15750</td>\n",
       "      <td>purchase</td>\n",
       "    </tr>\n",
       "    <tr>\n",
       "      <th>12</th>\n",
       "      <td>P002</td>\n",
       "      <td>2024-01-19</td>\n",
       "      <td>AF2223-026870</td>\n",
       "      <td>Oxometer</td>\n",
       "      <td>0</td>\n",
       "      <td>25000</td>\n",
       "      <td>0</td>\n",
       "      <td>25000</td>\n",
       "      <td>purchase</td>\n",
       "    </tr>\n",
       "    <tr>\n",
       "      <th>13</th>\n",
       "      <td>P002</td>\n",
       "      <td>2024-01-19</td>\n",
       "      <td>AF2223-026870</td>\n",
       "      <td>tax igst 28%</td>\n",
       "      <td>0</td>\n",
       "      <td>3500</td>\n",
       "      <td>0</td>\n",
       "      <td>3500</td>\n",
       "      <td>purchase</td>\n",
       "    </tr>\n",
       "    <tr>\n",
       "      <th>14</th>\n",
       "      <td>P002</td>\n",
       "      <td>2024-01-19</td>\n",
       "      <td>AF2223-026870</td>\n",
       "      <td>tax cgst 28%</td>\n",
       "      <td>0</td>\n",
       "      <td>3500</td>\n",
       "      <td>0</td>\n",
       "      <td>3500</td>\n",
       "      <td>purchase</td>\n",
       "    </tr>\n",
       "    <tr>\n",
       "      <th>15</th>\n",
       "      <td>P002</td>\n",
       "      <td>2024-01-19</td>\n",
       "      <td>AF2223-026870</td>\n",
       "      <td>To One Mg</td>\n",
       "      <td>0</td>\n",
       "      <td>0</td>\n",
       "      <td>32000</td>\n",
       "      <td>32000</td>\n",
       "      <td>purchase</td>\n",
       "    </tr>\n",
       "    <tr>\n",
       "      <th>16</th>\n",
       "      <td>P0022</td>\n",
       "      <td>2024-01-19</td>\n",
       "      <td>AF2223-026870</td>\n",
       "      <td>One Mg</td>\n",
       "      <td>0</td>\n",
       "      <td>32000</td>\n",
       "      <td>0</td>\n",
       "      <td>32000</td>\n",
       "      <td>purchase</td>\n",
       "    </tr>\n",
       "    <tr>\n",
       "      <th>17</th>\n",
       "      <td>P0022</td>\n",
       "      <td>2024-01-19</td>\n",
       "      <td>AF2223-026870</td>\n",
       "      <td>To Bank</td>\n",
       "      <td>0</td>\n",
       "      <td>0</td>\n",
       "      <td>32000</td>\n",
       "      <td>32000</td>\n",
       "      <td>purchase</td>\n",
       "    </tr>\n",
       "    <tr>\n",
       "      <th>18</th>\n",
       "      <td>P003</td>\n",
       "      <td>2024-01-21</td>\n",
       "      <td>AF2223-026871</td>\n",
       "      <td>Cooler</td>\n",
       "      <td>0</td>\n",
       "      <td>35000</td>\n",
       "      <td>0</td>\n",
       "      <td>35000</td>\n",
       "      <td>purchase</td>\n",
       "    </tr>\n",
       "    <tr>\n",
       "      <th>19</th>\n",
       "      <td>P003</td>\n",
       "      <td>2024-01-21</td>\n",
       "      <td>AF2223-026871</td>\n",
       "      <td>tax igst 12%</td>\n",
       "      <td>0</td>\n",
       "      <td>2100</td>\n",
       "      <td>0</td>\n",
       "      <td>2100</td>\n",
       "      <td>purchase</td>\n",
       "    </tr>\n",
       "    <tr>\n",
       "      <th>20</th>\n",
       "      <td>P003</td>\n",
       "      <td>2024-01-21</td>\n",
       "      <td>AF2223-026871</td>\n",
       "      <td>tax cgst 12%</td>\n",
       "      <td>0</td>\n",
       "      <td>2100</td>\n",
       "      <td>0</td>\n",
       "      <td>2100</td>\n",
       "      <td>purchase</td>\n",
       "    </tr>\n",
       "    <tr>\n",
       "      <th>21</th>\n",
       "      <td>P003</td>\n",
       "      <td>2024-01-21</td>\n",
       "      <td>AF2223-026871</td>\n",
       "      <td>To Reliance digital</td>\n",
       "      <td>0</td>\n",
       "      <td>0</td>\n",
       "      <td>39200</td>\n",
       "      <td>39200</td>\n",
       "      <td>purchase</td>\n",
       "    </tr>\n",
       "    <tr>\n",
       "      <th>22</th>\n",
       "      <td>P0033</td>\n",
       "      <td>2024-01-21</td>\n",
       "      <td>AF2223-026871</td>\n",
       "      <td>Reliance digital</td>\n",
       "      <td>0</td>\n",
       "      <td>39200</td>\n",
       "      <td>0</td>\n",
       "      <td>39200</td>\n",
       "      <td>purchase</td>\n",
       "    </tr>\n",
       "    <tr>\n",
       "      <th>23</th>\n",
       "      <td>P0033</td>\n",
       "      <td>2024-01-21</td>\n",
       "      <td>AF2223-026871</td>\n",
       "      <td>To Bank</td>\n",
       "      <td>0</td>\n",
       "      <td>0</td>\n",
       "      <td>39200</td>\n",
       "      <td>39200</td>\n",
       "      <td>purchase</td>\n",
       "    </tr>\n",
       "    <tr>\n",
       "      <th>24</th>\n",
       "      <td>P004</td>\n",
       "      <td>2024-01-23</td>\n",
       "      <td>AF2223-026872</td>\n",
       "      <td>AC</td>\n",
       "      <td>0</td>\n",
       "      <td>40000</td>\n",
       "      <td>0</td>\n",
       "      <td>40000</td>\n",
       "      <td>purchase</td>\n",
       "    </tr>\n",
       "    <tr>\n",
       "      <th>25</th>\n",
       "      <td>P004</td>\n",
       "      <td>2024-01-23</td>\n",
       "      <td>AF2223-026872</td>\n",
       "      <td>tax igst 28%</td>\n",
       "      <td>0</td>\n",
       "      <td>5600</td>\n",
       "      <td>0</td>\n",
       "      <td>5600</td>\n",
       "      <td>purchase</td>\n",
       "    </tr>\n",
       "    <tr>\n",
       "      <th>26</th>\n",
       "      <td>P004</td>\n",
       "      <td>2024-01-23</td>\n",
       "      <td>AF2223-026872</td>\n",
       "      <td>tax cgst 28%</td>\n",
       "      <td>0</td>\n",
       "      <td>5600</td>\n",
       "      <td>0</td>\n",
       "      <td>5600</td>\n",
       "      <td>purchase</td>\n",
       "    </tr>\n",
       "    <tr>\n",
       "      <th>27</th>\n",
       "      <td>P004</td>\n",
       "      <td>2024-01-23</td>\n",
       "      <td>AF2223-026872</td>\n",
       "      <td>To Croma</td>\n",
       "      <td>0</td>\n",
       "      <td>0</td>\n",
       "      <td>51200</td>\n",
       "      <td>51200</td>\n",
       "      <td>purchase</td>\n",
       "    </tr>\n",
       "    <tr>\n",
       "      <th>28</th>\n",
       "      <td>P0044</td>\n",
       "      <td>2024-01-23</td>\n",
       "      <td>AF2223-026872</td>\n",
       "      <td>Croma</td>\n",
       "      <td>0</td>\n",
       "      <td>51200</td>\n",
       "      <td>0</td>\n",
       "      <td>51200</td>\n",
       "      <td>purchase</td>\n",
       "    </tr>\n",
       "    <tr>\n",
       "      <th>29</th>\n",
       "      <td>P0044</td>\n",
       "      <td>2024-01-23</td>\n",
       "      <td>AF2223-026872</td>\n",
       "      <td>To Bank</td>\n",
       "      <td>0</td>\n",
       "      <td>0</td>\n",
       "      <td>51200</td>\n",
       "      <td>51200</td>\n",
       "      <td>purchase</td>\n",
       "    </tr>\n",
       "    <tr>\n",
       "      <th>30</th>\n",
       "      <td>P005</td>\n",
       "      <td>2024-01-25</td>\n",
       "      <td>AF2223-026873</td>\n",
       "      <td>FAn</td>\n",
       "      <td>0</td>\n",
       "      <td>40000</td>\n",
       "      <td>0</td>\n",
       "      <td>40000</td>\n",
       "      <td>purchase</td>\n",
       "    </tr>\n",
       "    <tr>\n",
       "      <th>31</th>\n",
       "      <td>P005</td>\n",
       "      <td>2024-01-25</td>\n",
       "      <td>AF2223-026873</td>\n",
       "      <td>tax igst 12%</td>\n",
       "      <td>0</td>\n",
       "      <td>2400</td>\n",
       "      <td>0</td>\n",
       "      <td>2400</td>\n",
       "      <td>purchase</td>\n",
       "    </tr>\n",
       "    <tr>\n",
       "      <th>32</th>\n",
       "      <td>P005</td>\n",
       "      <td>2024-01-25</td>\n",
       "      <td>AF2223-026873</td>\n",
       "      <td>tax cgst 12%</td>\n",
       "      <td>0</td>\n",
       "      <td>2400</td>\n",
       "      <td>0</td>\n",
       "      <td>2400</td>\n",
       "      <td>purchase</td>\n",
       "    </tr>\n",
       "    <tr>\n",
       "      <th>33</th>\n",
       "      <td>P005</td>\n",
       "      <td>2024-01-25</td>\n",
       "      <td>AF2223-026873</td>\n",
       "      <td>To Usha</td>\n",
       "      <td>0</td>\n",
       "      <td>0</td>\n",
       "      <td>44800</td>\n",
       "      <td>44800</td>\n",
       "      <td>purchase</td>\n",
       "    </tr>\n",
       "    <tr>\n",
       "      <th>34</th>\n",
       "      <td>P0055</td>\n",
       "      <td>2024-01-25</td>\n",
       "      <td>AF2223-026873</td>\n",
       "      <td>Usha</td>\n",
       "      <td>0</td>\n",
       "      <td>44800</td>\n",
       "      <td>0</td>\n",
       "      <td>44800</td>\n",
       "      <td>purchase</td>\n",
       "    </tr>\n",
       "    <tr>\n",
       "      <th>35</th>\n",
       "      <td>P0055</td>\n",
       "      <td>2024-01-25</td>\n",
       "      <td>AF2223-026873</td>\n",
       "      <td>To Bank</td>\n",
       "      <td>0</td>\n",
       "      <td>0</td>\n",
       "      <td>44800</td>\n",
       "      <td>44800</td>\n",
       "      <td>purchase</td>\n",
       "    </tr>\n",
       "    <tr>\n",
       "      <th>36</th>\n",
       "      <td>P006</td>\n",
       "      <td>2024-01-27</td>\n",
       "      <td>AF2223-026874</td>\n",
       "      <td>Fridge</td>\n",
       "      <td>0</td>\n",
       "      <td>60000</td>\n",
       "      <td>0</td>\n",
       "      <td>60000</td>\n",
       "      <td>purchase</td>\n",
       "    </tr>\n",
       "    <tr>\n",
       "      <th>37</th>\n",
       "      <td>P006</td>\n",
       "      <td>2024-01-27</td>\n",
       "      <td>AF2223-026874</td>\n",
       "      <td>tax igst 12%</td>\n",
       "      <td>0</td>\n",
       "      <td>3600</td>\n",
       "      <td>0</td>\n",
       "      <td>3600</td>\n",
       "      <td>purchase</td>\n",
       "    </tr>\n",
       "    <tr>\n",
       "      <th>38</th>\n",
       "      <td>P006</td>\n",
       "      <td>2024-01-27</td>\n",
       "      <td>AF2223-026874</td>\n",
       "      <td>tax cgst 12%</td>\n",
       "      <td>0</td>\n",
       "      <td>3600</td>\n",
       "      <td>0</td>\n",
       "      <td>3600</td>\n",
       "      <td>purchase</td>\n",
       "    </tr>\n",
       "    <tr>\n",
       "      <th>39</th>\n",
       "      <td>P006</td>\n",
       "      <td>2024-01-27</td>\n",
       "      <td>AF2223-026874</td>\n",
       "      <td>To Whirlpool</td>\n",
       "      <td>0</td>\n",
       "      <td>0</td>\n",
       "      <td>67200</td>\n",
       "      <td>67200</td>\n",
       "      <td>purchase</td>\n",
       "    </tr>\n",
       "    <tr>\n",
       "      <th>40</th>\n",
       "      <td>P0066</td>\n",
       "      <td>2024-01-27</td>\n",
       "      <td>AF2223-026874</td>\n",
       "      <td>Whirlpool</td>\n",
       "      <td>0</td>\n",
       "      <td>67200</td>\n",
       "      <td>0</td>\n",
       "      <td>67200</td>\n",
       "      <td>purchase</td>\n",
       "    </tr>\n",
       "    <tr>\n",
       "      <th>41</th>\n",
       "      <td>P0066</td>\n",
       "      <td>2024-01-27</td>\n",
       "      <td>AF2223-026874</td>\n",
       "      <td>To Bank</td>\n",
       "      <td>0</td>\n",
       "      <td>0</td>\n",
       "      <td>67200</td>\n",
       "      <td>67200</td>\n",
       "      <td>purchase</td>\n",
       "    </tr>\n",
       "    <tr>\n",
       "      <th>42</th>\n",
       "      <td>P007</td>\n",
       "      <td>2024-01-29</td>\n",
       "      <td>AF2223-026875</td>\n",
       "      <td>TV</td>\n",
       "      <td>0</td>\n",
       "      <td>150000</td>\n",
       "      <td>0</td>\n",
       "      <td>150000</td>\n",
       "      <td>purchase</td>\n",
       "    </tr>\n",
       "    <tr>\n",
       "      <th>43</th>\n",
       "      <td>P007</td>\n",
       "      <td>2024-01-29</td>\n",
       "      <td>AF2223-026875</td>\n",
       "      <td>tax igst 18%</td>\n",
       "      <td>0</td>\n",
       "      <td>13500</td>\n",
       "      <td>0</td>\n",
       "      <td>13500</td>\n",
       "      <td>purchase</td>\n",
       "    </tr>\n",
       "    <tr>\n",
       "      <th>44</th>\n",
       "      <td>P007</td>\n",
       "      <td>2024-01-29</td>\n",
       "      <td>AF2223-026875</td>\n",
       "      <td>tax cgst 18%</td>\n",
       "      <td>0</td>\n",
       "      <td>13500</td>\n",
       "      <td>0</td>\n",
       "      <td>13500</td>\n",
       "      <td>purchase</td>\n",
       "    </tr>\n",
       "    <tr>\n",
       "      <th>45</th>\n",
       "      <td>P007</td>\n",
       "      <td>2024-01-29</td>\n",
       "      <td>AF2223-026875</td>\n",
       "      <td>To LG</td>\n",
       "      <td>0</td>\n",
       "      <td>0</td>\n",
       "      <td>177000</td>\n",
       "      <td>177000</td>\n",
       "      <td>purchase</td>\n",
       "    </tr>\n",
       "    <tr>\n",
       "      <th>46</th>\n",
       "      <td>P0077</td>\n",
       "      <td>2024-01-29</td>\n",
       "      <td>AF2223-026875</td>\n",
       "      <td>LG</td>\n",
       "      <td>0</td>\n",
       "      <td>177000</td>\n",
       "      <td>0</td>\n",
       "      <td>177000</td>\n",
       "      <td>purchase</td>\n",
       "    </tr>\n",
       "    <tr>\n",
       "      <th>47</th>\n",
       "      <td>P0077</td>\n",
       "      <td>2024-01-29</td>\n",
       "      <td>AF2223-026875</td>\n",
       "      <td>To Bank</td>\n",
       "      <td>0</td>\n",
       "      <td>0</td>\n",
       "      <td>177000</td>\n",
       "      <td>177000</td>\n",
       "      <td>purchase</td>\n",
       "    </tr>\n",
       "    <tr>\n",
       "      <th>48</th>\n",
       "      <td>P008</td>\n",
       "      <td>2024-01-31</td>\n",
       "      <td>AF2223-026876</td>\n",
       "      <td>Music System</td>\n",
       "      <td>0</td>\n",
       "      <td>180000</td>\n",
       "      <td>0</td>\n",
       "      <td>180000</td>\n",
       "      <td>purchase</td>\n",
       "    </tr>\n",
       "    <tr>\n",
       "      <th>49</th>\n",
       "      <td>P008</td>\n",
       "      <td>2024-01-31</td>\n",
       "      <td>AF2223-026876</td>\n",
       "      <td>tax igst 18%</td>\n",
       "      <td>0</td>\n",
       "      <td>16200</td>\n",
       "      <td>0</td>\n",
       "      <td>16200</td>\n",
       "      <td>purchase</td>\n",
       "    </tr>\n",
       "    <tr>\n",
       "      <th>50</th>\n",
       "      <td>P008</td>\n",
       "      <td>2024-01-31</td>\n",
       "      <td>AF2223-026876</td>\n",
       "      <td>tax cgst 18%</td>\n",
       "      <td>0</td>\n",
       "      <td>16200</td>\n",
       "      <td>0</td>\n",
       "      <td>16200</td>\n",
       "      <td>purchase</td>\n",
       "    </tr>\n",
       "    <tr>\n",
       "      <th>51</th>\n",
       "      <td>P008</td>\n",
       "      <td>2024-01-31</td>\n",
       "      <td>AF2223-026876</td>\n",
       "      <td>To Sony</td>\n",
       "      <td>0</td>\n",
       "      <td>0</td>\n",
       "      <td>212400</td>\n",
       "      <td>212400</td>\n",
       "      <td>purchase</td>\n",
       "    </tr>\n",
       "    <tr>\n",
       "      <th>52</th>\n",
       "      <td>P0088</td>\n",
       "      <td>2024-01-31</td>\n",
       "      <td>AF2223-026876</td>\n",
       "      <td>Sony</td>\n",
       "      <td>0</td>\n",
       "      <td>212400</td>\n",
       "      <td>0</td>\n",
       "      <td>212400</td>\n",
       "      <td>purchase</td>\n",
       "    </tr>\n",
       "    <tr>\n",
       "      <th>53</th>\n",
       "      <td>P0088</td>\n",
       "      <td>2024-01-31</td>\n",
       "      <td>AF2223-026876</td>\n",
       "      <td>To Bank</td>\n",
       "      <td>0</td>\n",
       "      <td>0</td>\n",
       "      <td>212400</td>\n",
       "      <td>212400</td>\n",
       "      <td>purchase</td>\n",
       "    </tr>\n",
       "  </tbody>\n",
       "</table>\n",
       "</div>"
      ],
      "text/plain": [
       "   J1 - Journal Number  J2 - Date J3 - Invoice_Ref_Number  \\\n",
       "0                 P000 2024-01-15           AF2223-026868   \n",
       "1                 P000 2024-01-15           AF2223-026868   \n",
       "2                 P000 2024-01-15           AF2223-026868   \n",
       "3                 P000 2024-01-15           AF2223-026868   \n",
       "4                P0000 2024-01-15           AF2223-026868   \n",
       "5                P0000 2024-01-15           AF2223-026868   \n",
       "6                 P001 2024-01-17           AF2223-026869   \n",
       "7                 P001 2024-01-17           AF2223-026869   \n",
       "8                 P001 2024-01-17           AF2223-026869   \n",
       "9                 P001 2024-01-17           AF2223-026869   \n",
       "10               P0011 2024-01-17           AF2223-026869   \n",
       "11               P0011 2024-01-17           AF2223-026869   \n",
       "12                P002 2024-01-19           AF2223-026870   \n",
       "13                P002 2024-01-19           AF2223-026870   \n",
       "14                P002 2024-01-19           AF2223-026870   \n",
       "15                P002 2024-01-19           AF2223-026870   \n",
       "16               P0022 2024-01-19           AF2223-026870   \n",
       "17               P0022 2024-01-19           AF2223-026870   \n",
       "18                P003 2024-01-21           AF2223-026871   \n",
       "19                P003 2024-01-21           AF2223-026871   \n",
       "20                P003 2024-01-21           AF2223-026871   \n",
       "21                P003 2024-01-21           AF2223-026871   \n",
       "22               P0033 2024-01-21           AF2223-026871   \n",
       "23               P0033 2024-01-21           AF2223-026871   \n",
       "24                P004 2024-01-23           AF2223-026872   \n",
       "25                P004 2024-01-23           AF2223-026872   \n",
       "26                P004 2024-01-23           AF2223-026872   \n",
       "27                P004 2024-01-23           AF2223-026872   \n",
       "28               P0044 2024-01-23           AF2223-026872   \n",
       "29               P0044 2024-01-23           AF2223-026872   \n",
       "30                P005 2024-01-25           AF2223-026873   \n",
       "31                P005 2024-01-25           AF2223-026873   \n",
       "32                P005 2024-01-25           AF2223-026873   \n",
       "33                P005 2024-01-25           AF2223-026873   \n",
       "34               P0055 2024-01-25           AF2223-026873   \n",
       "35               P0055 2024-01-25           AF2223-026873   \n",
       "36                P006 2024-01-27           AF2223-026874   \n",
       "37                P006 2024-01-27           AF2223-026874   \n",
       "38                P006 2024-01-27           AF2223-026874   \n",
       "39                P006 2024-01-27           AF2223-026874   \n",
       "40               P0066 2024-01-27           AF2223-026874   \n",
       "41               P0066 2024-01-27           AF2223-026874   \n",
       "42                P007 2024-01-29           AF2223-026875   \n",
       "43                P007 2024-01-29           AF2223-026875   \n",
       "44                P007 2024-01-29           AF2223-026875   \n",
       "45                P007 2024-01-29           AF2223-026875   \n",
       "46               P0077 2024-01-29           AF2223-026875   \n",
       "47               P0077 2024-01-29           AF2223-026875   \n",
       "48                P008 2024-01-31           AF2223-026876   \n",
       "49                P008 2024-01-31           AF2223-026876   \n",
       "50                P008 2024-01-31           AF2223-026876   \n",
       "51                P008 2024-01-31           AF2223-026876   \n",
       "52               P0088 2024-01-31           AF2223-026876   \n",
       "53               P0088 2024-01-31           AF2223-026876   \n",
       "\n",
       "       J4 - Ledger_Name  J5 - Opening Balance  J6 - Dr Amount  J7 - Cr Amount  \\\n",
       "0                Laptop                     0           10000               0   \n",
       "1          tax igst 12%                     0             600               0   \n",
       "2          tax cgst 12%                     0             600               0   \n",
       "3             To Amazon                     0               0           11200   \n",
       "4                Amazon                     0           11200               0   \n",
       "5               To Bank                     0               0           11200   \n",
       "6              Keyboard                     0           15000               0   \n",
       "7           tax igst 5%                     0             375               0   \n",
       "8           tax cgst 5%                     0             375               0   \n",
       "9           To Flipkart                     0               0           15750   \n",
       "10             Flipkart                     0           15750               0   \n",
       "11              To Bank                     0               0           15750   \n",
       "12             Oxometer                     0           25000               0   \n",
       "13         tax igst 28%                     0            3500               0   \n",
       "14         tax cgst 28%                     0            3500               0   \n",
       "15            To One Mg                     0               0           32000   \n",
       "16               One Mg                     0           32000               0   \n",
       "17              To Bank                     0               0           32000   \n",
       "18               Cooler                     0           35000               0   \n",
       "19         tax igst 12%                     0            2100               0   \n",
       "20         tax cgst 12%                     0            2100               0   \n",
       "21  To Reliance digital                     0               0           39200   \n",
       "22     Reliance digital                     0           39200               0   \n",
       "23              To Bank                     0               0           39200   \n",
       "24                   AC                     0           40000               0   \n",
       "25         tax igst 28%                     0            5600               0   \n",
       "26         tax cgst 28%                     0            5600               0   \n",
       "27             To Croma                     0               0           51200   \n",
       "28                Croma                     0           51200               0   \n",
       "29              To Bank                     0               0           51200   \n",
       "30                  FAn                     0           40000               0   \n",
       "31         tax igst 12%                     0            2400               0   \n",
       "32         tax cgst 12%                     0            2400               0   \n",
       "33              To Usha                     0               0           44800   \n",
       "34                 Usha                     0           44800               0   \n",
       "35              To Bank                     0               0           44800   \n",
       "36               Fridge                     0           60000               0   \n",
       "37         tax igst 12%                     0            3600               0   \n",
       "38         tax cgst 12%                     0            3600               0   \n",
       "39         To Whirlpool                     0               0           67200   \n",
       "40            Whirlpool                     0           67200               0   \n",
       "41              To Bank                     0               0           67200   \n",
       "42                   TV                     0          150000               0   \n",
       "43         tax igst 18%                     0           13500               0   \n",
       "44         tax cgst 18%                     0           13500               0   \n",
       "45                To LG                     0               0          177000   \n",
       "46                   LG                     0          177000               0   \n",
       "47              To Bank                     0               0          177000   \n",
       "48         Music System                     0          180000               0   \n",
       "49         tax igst 18%                     0           16200               0   \n",
       "50         tax cgst 18%                     0           16200               0   \n",
       "51              To Sony                     0               0          212400   \n",
       "52                 Sony                     0          212400               0   \n",
       "53              To Bank                     0               0          212400   \n",
       "\n",
       "    J8 - Closing Balance J9 - Description/Narration  \n",
       "0                  10000                   purchase  \n",
       "1                    600                   purchase  \n",
       "2                    600                   purchase  \n",
       "3                  11200                   purchase  \n",
       "4                  11200                   purchase  \n",
       "5                  11200                   purchase  \n",
       "6                  15000                   purchase  \n",
       "7                    375                   purchase  \n",
       "8                    375                   purchase  \n",
       "9                  15750                   purchase  \n",
       "10                 15750                   purchase  \n",
       "11                 15750                   purchase  \n",
       "12                 25000                   purchase  \n",
       "13                  3500                   purchase  \n",
       "14                  3500                   purchase  \n",
       "15                 32000                   purchase  \n",
       "16                 32000                   purchase  \n",
       "17                 32000                   purchase  \n",
       "18                 35000                   purchase  \n",
       "19                  2100                   purchase  \n",
       "20                  2100                   purchase  \n",
       "21                 39200                   purchase  \n",
       "22                 39200                   purchase  \n",
       "23                 39200                   purchase  \n",
       "24                 40000                   purchase  \n",
       "25                  5600                   purchase  \n",
       "26                  5600                   purchase  \n",
       "27                 51200                   purchase  \n",
       "28                 51200                   purchase  \n",
       "29                 51200                   purchase  \n",
       "30                 40000                   purchase  \n",
       "31                  2400                   purchase  \n",
       "32                  2400                   purchase  \n",
       "33                 44800                   purchase  \n",
       "34                 44800                   purchase  \n",
       "35                 44800                   purchase  \n",
       "36                 60000                   purchase  \n",
       "37                  3600                   purchase  \n",
       "38                  3600                   purchase  \n",
       "39                 67200                   purchase  \n",
       "40                 67200                   purchase  \n",
       "41                 67200                   purchase  \n",
       "42                150000                   purchase  \n",
       "43                 13500                   purchase  \n",
       "44                 13500                   purchase  \n",
       "45                177000                   purchase  \n",
       "46                177000                   purchase  \n",
       "47                177000                   purchase  \n",
       "48                180000                   purchase  \n",
       "49                 16200                   purchase  \n",
       "50                 16200                   purchase  \n",
       "51                212400                   purchase  \n",
       "52                212400                   purchase  \n",
       "53                212400                   purchase  "
      ]
     },
     "execution_count": 7,
     "metadata": {},
     "output_type": "execute_result"
    }
   ],
   "source": [
    "df = pd.DataFrame(k)\n",
    "df"
   ]
  },
  {
   "cell_type": "code",
   "execution_count": null,
   "id": "de974ec1-ce90-4f73-bdfc-48b8c38cd62b",
   "metadata": {},
   "outputs": [],
   "source": [
    "df.to_excel('purchase.xlsx')"
   ]
  }
 ],
 "metadata": {
  "kernelspec": {
   "display_name": "Python 3 (ipykernel)",
   "language": "python",
   "name": "python3"
  },
  "language_info": {
   "codemirror_mode": {
    "name": "ipython",
    "version": 3
   },
   "file_extension": ".py",
   "mimetype": "text/x-python",
   "name": "python",
   "nbconvert_exporter": "python",
   "pygments_lexer": "ipython3",
   "version": "3.9.0"
  }
 },
 "nbformat": 4,
 "nbformat_minor": 5
}
